{
 "cells": [
  {
   "cell_type": "code",
   "execution_count": 1,
   "id": "87375812-e2dd-4a8e-aecc-f0b9a224996b",
   "metadata": {},
   "outputs": [],
   "source": [
    "from pyspark.sql import SparkSession\n",
    "from pyspark.sql.window import Window\n",
    "from pyspark.sql import functions as F\n",
    "from pyspark.sql.functions import col, lit, row_number, monotonically_increasing_id, when, to_timestamp, date_format, explode"
   ]
  },
  {
   "cell_type": "code",
   "execution_count": 2,
   "id": "004a8ec9-b508-4a45-876f-264ac76da0d9",
   "metadata": {},
   "outputs": [
    {
     "name": "stderr",
     "output_type": "stream",
     "text": [
      "Setting default log level to \"WARN\".\n",
      "To adjust logging level use sc.setLogLevel(newLevel). For SparkR, use setLogLevel(newLevel).\n",
      "25/03/08 05:17:08 WARN NativeCodeLoader: Unable to load native-hadoop library for your platform... using builtin-java classes where applicable\n"
     ]
    }
   ],
   "source": [
    "# Initialize Spark Session\n",
    "spark = SparkSession.builder.appName(\"FootballDataETL\").getOrCreate()"
   ]
  },
  {
   "cell_type": "code",
   "execution_count": 3,
   "id": "96292548-97f1-4ced-aa1e-36d04e18ca45",
   "metadata": {},
   "outputs": [
    {
     "name": "stderr",
     "output_type": "stream",
     "text": [
      "                                                                                "
     ]
    }
   ],
   "source": [
    "# Load the JSON file (adjust the path as needed)\n",
    "fixtures_df = spark.read.option(\"multiline\", \"true\").json(\"raw_data/fixtures/*.json\")\n",
    "teams_df = spark.read.option(\"multiline\", \"true\").json(\"raw_data/teams/*.json\")\n",
    "players_df = spark.read.option(\"multiline\", \"true\").json(\"raw_data/player_stats/*.json\")\n",
    "team_stats_df = spark.read.option(\"multiline\", \"true\").json(\"raw_data/team_stats/*.json\")"
   ]
  },
  {
   "cell_type": "code",
   "execution_count": 4,
   "id": "a2b230c8-8159-4823-8c59-41f510c898e1",
   "metadata": {},
   "outputs": [],
   "source": [
    "# Explode the response array to get individual match records\n",
    "fixtures_exploded = fixtures_df.selectExpr(\"explode(response) as match_data\")"
   ]
  },
  {
   "cell_type": "code",
   "execution_count": 5,
   "id": "8b757c80-9449-4389-ab55-8b9c83423bae",
   "metadata": {},
   "outputs": [],
   "source": [
    "# Manually populate Dim_Seasons\n",
    "dim_seasons_data = [(2021, 1), (2022, 2), (2023, 3), (2024, 4), (2025, 5)]\n",
    "dim_seasons_df = spark.createDataFrame(dim_seasons_data, [\"Season_Year\", \"Season_ID\"])"
   ]
  },
  {
   "cell_type": "code",
   "execution_count": 6,
   "id": "0fc7aac3-d4ff-4249-a985-1d8b16303893",
   "metadata": {},
   "outputs": [],
   "source": [
    "# Extract Dim_Countries dynamically\n",
    "dim_countries_df = [(\"England\", 1), (\"Spain\", 2), (\"Germany\", 3), (\"Italy\", 4), (\"France\", 5)]\n",
    "dim_countries_df = spark.createDataFrame(dim_countries_df, [\"Country_Name\", \"Country_ID\"])"
   ]
  },
  {
   "cell_type": "code",
   "execution_count": 7,
   "id": "290a8fd3-acbe-4c31-855b-2a7f06327f25",
   "metadata": {},
   "outputs": [],
   "source": [
    "# Extract Dim_Leagues dynamically\n",
    "dim_leagues_df = fixtures_exploded.select(\n",
    "    col(\"match_data.league.id\").alias(\"League_ID\"),\n",
    "    col(\"match_data.league.name\").alias(\"League_Name\"),\n",
    "    col(\"match_data.league.country\").alias(\"Country_Name\"),\n",
    "    col(\"match_data.league.logo\").alias(\"League_Logo\")\n",
    ").distinct()\n",
    "\n",
    "# Assign Country_ID from Dim_Countries\n",
    "dim_leagues_df = dim_leagues_df.join(dim_countries_df, \"Country_Name\", \"left\") \\\n",
    "                             .select(\"League_ID\", \"League_Name\", \"Country_ID\", \"League_Logo\")"
   ]
  },
  {
   "cell_type": "code",
   "execution_count": 8,
   "id": "994c4d8e-34a8-4b30-8c7f-21d13dc4fd8f",
   "metadata": {},
   "outputs": [],
   "source": [
    "# Explode response array to extract individual team records\n",
    "teams_exploded = teams_df.selectExpr(\"explode(response) as team_data\")"
   ]
  },
  {
   "cell_type": "code",
   "execution_count": 9,
   "id": "4ff6c173-aa66-4a7e-bff8-3caab23448a5",
   "metadata": {},
   "outputs": [],
   "source": [
    "# Extract Dim_Venues\n",
    "dim_venues_df = teams_exploded.select(\n",
    "    col(\"team_data.venue.id\").alias(\"Venue_ID\"),\n",
    "    col(\"team_data.venue.name\").alias(\"Venue_Name\"),\n",
    "    col(\"team_data.venue.city\").alias(\"City\"),\n",
    "    col(\"team_data.team.country\").alias(\"Country_Name\"),\n",
    "    col(\"team_data.venue.capacity\").alias(\"Capacity\")\n",
    ").distinct()\n",
    "\n",
    "# Assign Country_ID from Dim_Countries\n",
    "dim_venues_df = dim_venues_df.join(dim_countries_df, \"Country_Name\", \"left\") \\\n",
    "                             .select(\"Venue_ID\", \"Venue_Name\", \"City\", \"Country_ID\", \"Capacity\")"
   ]
  },
  {
   "cell_type": "code",
   "execution_count": 10,
   "id": "1f16f98c-0eaa-40e2-9c07-e61cc67edf45",
   "metadata": {},
   "outputs": [],
   "source": [
    "# Extract Dim_Teams\n",
    "dim_teams_df = teams_exploded.select(\n",
    "    col(\"team_data.team.id\").alias(\"Team_ID\"),\n",
    "    col(\"team_data.team.name\").alias(\"Team_Name\"),\n",
    "    col(\"team_data.team.logo\").alias(\"Team_Logo\"),\n",
    "    col(\"team_data.team.country\").alias(\"Country_Name\"),\n",
    "    col(\"team_data.venue.id\").alias(\"Venue_ID\")\n",
    ").distinct()\n",
    "\n",
    "# Assign League_ID by joining with Dim_Leagues\n",
    "dim_teams_df = dim_teams_df.join(dim_countries_df, \"Country_Name\", \"left\") \\\n",
    "                           .select(\"Team_ID\", \"Team_Name\", \"Venue_ID\", \"Team_Logo\", \"Country_ID\") \\\n",
    "                           .join(dim_leagues_df, \"Country_ID\", \"left\") \\\n",
    "                           .select(\"Team_ID\", \"Team_Name\", \"League_ID\", \"Venue_ID\", \"Team_Logo\")"
   ]
  },
  {
   "cell_type": "code",
   "execution_count": 11,
   "id": "e819c8ec-cbd0-4d3e-9de5-d27c28f3be43",
   "metadata": {},
   "outputs": [],
   "source": [
    "# Extract Dim_Fixtures\n",
    "dim_fixtures_df = fixtures_exploded.select(\n",
    "    col(\"match_data.fixture.id\").alias(\"Fixture_ID\"),\n",
    "    col(\"match_data.league.id\").alias(\"League_ID\"),\n",
    "    col(\"match_data.league.season\").alias(\"Season_Year\"),\n",
    "    col(\"match_data.teams.home.id\").alias(\"Home_Team_ID\"),\n",
    "    col(\"match_data.teams.away.id\").alias(\"Away_Team_ID\"),\n",
    "    col(\"match_data.fixture.venue.id\").alias(\"Venue_ID\"),\n",
    "    to_timestamp(col(\"match_data.fixture.date\")).alias(\"Match_Date\"),\n",
    "    to_timestamp(date_format(col(\"match_data.fixture.date\"), \"HH:mm:ss\")).alias(\"Match_Time\"),\n",
    "    col(\"match_data.goals.home\").alias(\"Goals_Home\"),\n",
    "    col(\"match_data.goals.away\").alias(\"Goals_Away\"),\n",
    "    when(col(\"match_data.teams.home.winner\") == True, lit(True)).otherwise(lit(False)).alias(\"Home_win\"),\n",
    "    when(col(\"match_data.teams.away.winner\") == True, lit(True)).otherwise(lit(False)).alias(\"Away_win\"),\n",
    "    when(col(\"match_data.teams.home.winner\") == True, col(\"match_data.teams.home.id\"))\n",
    "    .when(col(\"match_data.teams.away.winner\") == True, col(\"match_data.teams.away.id\"))\n",
    "    .otherwise(lit(None)).alias(\"Winner_Team_ID\"),\n",
    "    col(\"match_data.fixture.status.short\").alias(\"Status\")\n",
    ")\n",
    "\n",
    "# Assign Season_ID by joining with Dim_Seasons\n",
    "dim_fixtures_df = dim_fixtures_df.join(dim_seasons_df, dim_fixtures_df.Season_Year == dim_seasons_df.Season_Year, \"left\") \\\n",
    "                                   .select(\"Fixture_ID\", \"League_ID\", \"Season_ID\", \"Home_Team_ID\", \"Away_Team_ID\", \n",
    "                                           \"Venue_ID\", \"Match_Date\", \"Match_Time\", \"Goals_Home\", \"Goals_Away\",\n",
    "                                           \"Home_win\", \"Away_win\", \"Winner_Team_ID\", \"Status\")\n"
   ]
  },
  {
   "cell_type": "code",
   "execution_count": 12,
   "id": "5b02f089-2c12-4856-8f01-6d44b4ca9a99",
   "metadata": {},
   "outputs": [
    {
     "name": "stdout",
     "output_type": "stream",
     "text": [
      "+-----------+---------+\n",
      "|Season_Year|Season_ID|\n",
      "+-----------+---------+\n",
      "|       2021|        1|\n",
      "|       2022|        2|\n",
      "|       2023|        3|\n",
      "|       2024|        4|\n",
      "|       2025|        5|\n",
      "+-----------+---------+\n",
      "\n"
     ]
    }
   ],
   "source": [
    "dim_seasons_df.show()"
   ]
  },
  {
   "cell_type": "code",
   "execution_count": 13,
   "id": "477ed16e-f0f5-4123-b80c-5c4f64df1189",
   "metadata": {},
   "outputs": [
    {
     "name": "stdout",
     "output_type": "stream",
     "text": [
      "+------------+----------+\n",
      "|Country_Name|Country_ID|\n",
      "+------------+----------+\n",
      "|     England|         1|\n",
      "|       Spain|         2|\n",
      "|     Germany|         3|\n",
      "|       Italy|         4|\n",
      "|      France|         5|\n",
      "+------------+----------+\n",
      "\n"
     ]
    }
   ],
   "source": [
    "dim_countries_df.show()"
   ]
  },
  {
   "cell_type": "code",
   "execution_count": 14,
   "id": "132cf4d0-0653-4463-9794-25deba68b9a0",
   "metadata": {},
   "outputs": [
    {
     "name": "stdout",
     "output_type": "stream",
     "text": [
      "+---------+--------------+----------+--------------------+\n",
      "|League_ID|   League_Name|Country_ID|         League_Logo|\n",
      "+---------+--------------+----------+--------------------+\n",
      "|      140|       La Liga|         2|https://media.api...|\n",
      "|       39|Premier League|         1|https://media.api...|\n",
      "|      135|       Serie A|         4|https://media.api...|\n",
      "|       78|    Bundesliga|         3|https://media.api...|\n",
      "+---------+--------------+----------+--------------------+\n",
      "\n"
     ]
    }
   ],
   "source": [
    "dim_leagues_df.show()"
   ]
  },
  {
   "cell_type": "code",
   "execution_count": 15,
   "id": "ecc78707-f59f-492a-9c0a-61e6ed78c9eb",
   "metadata": {},
   "outputs": [
    {
     "name": "stdout",
     "output_type": "stream",
     "text": [
      "+--------+--------------------+--------------------+----------+--------+\n",
      "|Venue_ID|          Venue_Name|                City|Country_ID|Capacity|\n",
      "+--------+--------------------+--------------------+----------+--------+\n",
      "|    1494|Estadio Ramón Sán...|             Sevilla|         2|   48649|\n",
      "|   20421| Stage Front Stadium|Cornella de Llobr...|         2|   40423|\n",
      "|    1488| Estadio de Vallecas|              Madrid|         2|   15500|\n",
      "|    1498|Estadio de la Cer...|          Villarreal|         2|   24500|\n",
      "|    1460|    San Mamés Barria|              Bilbao|         2|   53289|\n",
      "|   11915|Estadio Nuevo Mir...|               Cádiz|         2|   22000|\n",
      "|    1456|Estadio Santiago ...|              Madrid|         2|   85454|\n",
      "|   19216|Power Horse Stadi...|             Almería|         2|   21350|\n",
      "|   19939|Estadi Olímpic Ll...|           Barcelona|         2|   55926|\n",
      "|    1489|Estadio Benito Vi...|             Sevilla|         2|   60721|\n",
      "|    1478|Estadi Municipal ...|              Girona|         2|   14500|\n",
      "|    1497| Estadio de Mestalla|            Valencia|         2|   55000|\n",
      "|   19217|Estádio Cívitas M...|              Madrid|         2|   70460|\n",
      "|   20422|    Estadio Coliseum|              Getafe|         2|   17393|\n",
      "|   19940|Estadi Mallorca S...|   Palma de Mallorca|         2|   23142|\n",
      "|    1486|    Estadio El Sadar|              Iruñea|         2|   23576|\n",
      "|    1467|     Abanca-Balaídos|                Vigo|         2|   31800|\n",
      "|    1473|Estadio Manuel Ma...|               Elche|         2|   36017|\n",
      "|    1492|Estadio Municipal...|          Valladolid|         2|   26512|\n",
      "|    1491|         Reale Arena|Donostia-San Seba...|         2|   40000|\n",
      "+--------+--------------------+--------------------+----------+--------+\n",
      "only showing top 20 rows\n",
      "\n"
     ]
    }
   ],
   "source": [
    "dim_venues_df.show()"
   ]
  },
  {
   "cell_type": "code",
   "execution_count": 16,
   "id": "91efeaa5-1ed2-488e-a117-66a2da3c8033",
   "metadata": {},
   "outputs": [
    {
     "name": "stdout",
     "output_type": "stream",
     "text": [
      "+-------+---------------+---------+--------+--------------------+\n",
      "|Team_ID|      Team_Name|League_ID|Venue_ID|           Team_Logo|\n",
      "+-------+---------------+---------+--------+--------------------+\n",
      "|    727|        Osasuna|      140|    1486|https://media.api...|\n",
      "|    533|     Villarreal|      140|    1498|https://media.api...|\n",
      "|    548|  Real Sociedad|      140|    1491|https://media.api...|\n",
      "|    546|         Getafe|      140|   20422|https://media.api...|\n",
      "|    538|     Celta Vigo|      140|    1467|https://media.api...|\n",
      "|    720|     Valladolid|      140|    1492|https://media.api...|\n",
      "|    532|       Valencia|      140|    1497|https://media.api...|\n",
      "|    529|      Barcelona|      140|   19939|https://media.api...|\n",
      "|    541|    Real Madrid|      140|    1456|https://media.api...|\n",
      "|    728| Rayo Vallecano|      140|    1488|https://media.api...|\n",
      "|    797|          Elche|      140|    1473|https://media.api...|\n",
      "|    547|         Girona|      140|    1478|https://media.api...|\n",
      "|    531|  Athletic Club|      140|    1460|https://media.api...|\n",
      "|    540|       Espanyol|      140|   20421|https://media.api...|\n",
      "|    543|     Real Betis|      140|    1489|https://media.api...|\n",
      "|    536|        Sevilla|      140|    1494|https://media.api...|\n",
      "|    724|          Cadiz|      140|   11915|https://media.api...|\n",
      "|    723|        Almeria|      140|   19216|https://media.api...|\n",
      "|    798|       Mallorca|      140|   19940|https://media.api...|\n",
      "|    530|Atletico Madrid|      140|   19217|https://media.api...|\n",
      "+-------+---------------+---------+--------+--------------------+\n",
      "only showing top 20 rows\n",
      "\n"
     ]
    }
   ],
   "source": [
    "dim_teams_df.show()"
   ]
  },
  {
   "cell_type": "code",
   "execution_count": 17,
   "id": "4aaf3326-a940-43ca-b930-277dbb0a8c4d",
   "metadata": {},
   "outputs": [
    {
     "name": "stdout",
     "output_type": "stream",
     "text": [
      "+----------+---------+---------+------------+------------+--------+-------------------+-------------------+----------+----------+--------+--------+--------------+------+\n",
      "|Fixture_ID|League_ID|Season_ID|Home_Team_ID|Away_Team_ID|Venue_ID|         Match_Date|         Match_Time|Goals_Home|Goals_Away|Home_win|Away_win|Winner_Team_ID|Status|\n",
      "+----------+---------+---------+------------+------------+--------+-------------------+-------------------+----------+----------+--------+--------+--------------+------+\n",
      "|   1037952|      140|        3|         723|         728|   19216|2023-08-11 13:30:00|2025-03-08 13:30:00|         0|         2|   false|    true|           728|    FT|\n",
      "|   1037956|      140|        3|         536|         532|    1494|2023-08-11 16:00:00|2025-03-08 16:00:00|         1|         2|   false|    true|           532|    FT|\n",
      "|   1037960|      140|        3|         548|         547|    1491|2023-08-12 11:00:00|2025-03-08 11:00:00|         1|         1|   false|   false|          NULL|    FT|\n",
      "|   1037957|      140|        3|         534|         798|    1481|2023-08-12 13:30:00|2025-03-08 13:30:00|         1|         1|   false|   false|          NULL|    FT|\n",
      "|   1037953|      140|        3|         531|         541|    1460|2023-08-12 15:30:00|2025-03-08 15:30:00|         0|         2|   false|    true|           541|    FT|\n",
      "|   1037955|      140|        3|         538|         727|    1467|2023-08-13 11:00:00|2025-03-08 11:00:00|         0|         2|   false|    true|           727|    FT|\n",
      "|   1037959|      140|        3|         533|         543|    1498|2023-08-13 13:30:00|2025-03-08 13:30:00|         1|         2|   false|    true|           543|    FT|\n",
      "|   1037958|      140|        3|         546|         529|   20422|2023-08-13 15:30:00|2025-03-08 15:30:00|         0|         0|   false|   false|          NULL|    FT|\n",
      "|   1037961|      140|        3|         724|         542|   11915|2023-08-14 13:30:00|2025-03-08 13:30:00|         1|         0|    true|   false|           724|    FT|\n",
      "|   1037954|      140|        3|         530|         715|   19217|2023-08-14 15:30:00|2025-03-08 15:30:00|         3|         1|    true|   false|           530|    FT|\n",
      "|   1037964|      140|        3|         798|         533|   19940|2023-08-18 13:30:00|2025-03-08 13:30:00|         0|         1|   false|    true|           533|    FT|\n",
      "|   1037971|      140|        3|         532|         534|    1497|2023-08-18 15:30:00|2025-03-08 15:30:00|         1|         0|    true|   false|           532|    FT|\n",
      "|   1037969|      140|        3|         548|         538|    1491|2023-08-19 11:00:00|2025-03-08 11:00:00|         1|         1|   false|   false|          NULL|    FT|\n",
      "|   1037962|      140|        3|         723|         541|   19216|2023-08-19 13:30:00|2025-03-08 13:30:00|         1|         3|   false|    true|           541|    FT|\n",
      "|   1037967|      140|        3|         727|         531|    1486|2023-08-19 15:30:00|2025-03-08 15:30:00|         0|         2|   false|    true|           531|    FT|\n",
      "|   1037970|      140|        3|         547|         546|    1478|2023-08-20 13:00:00|2025-03-08 13:00:00|         3|         0|    true|   false|           547|    FT|\n",
      "|   1037963|      140|        3|         529|         724|   19939|2023-08-20 13:30:00|2025-03-08 13:30:00|         2|         0|    true|   false|           529|    FT|\n",
      "|   1037968|      140|        3|         543|         530|    1489|2023-08-20 15:30:00|2025-03-08 15:30:00|         0|         0|   false|   false|          NULL|    FT|\n",
      "|   1037966|      140|        3|         542|         536|    1470|2023-08-21 13:00:00|2025-03-08 13:00:00|         4|         3|    true|   false|           542|    FT|\n",
      "|   1037965|      140|        3|         715|         728|    1479|2023-08-21 15:30:00|2025-03-08 15:30:00|         0|         2|   false|    true|           728|    FT|\n",
      "+----------+---------+---------+------------+------------+--------+-------------------+-------------------+----------+----------+--------+--------+--------------+------+\n",
      "only showing top 20 rows\n",
      "\n"
     ]
    }
   ],
   "source": [
    "dim_fixtures_df.show()"
   ]
  },
  {
   "cell_type": "code",
   "execution_count": 18,
   "id": "8c7e7363-d974-4c70-8615-ab96a4887005",
   "metadata": {},
   "outputs": [],
   "source": [
    "# Extract Fixture_ID from parameters.fixture\n",
    "player_stats_df = players_df.withColumn(\"Fixture_ID\", col(\"parameters.fixture\"))\n",
    "\n",
    "# Explode response array to extract individual fixture records\n",
    "player_stats_exploded = player_stats_df.selectExpr(\"Fixture_ID\", \"explode(response) as match_data\")\n",
    "\n",
    "# Explode players array to get individual player records\n",
    "player_stats_exploded = player_stats_exploded.select(\n",
    "    col(\"Fixture_ID\"),\n",
    "    col(\"match_data.team.id\").alias(\"Team_ID\"),\n",
    "    col(\"match_data.team.name\").alias(\"Team_Name\"),\n",
    "    col(\"match_data.players\").alias(\"Players\")\n",
    ").withColumn(\"Players\", explode(col(\"Players\")))\n",
    "\n",
    "# Extract Player-Level Statistics\n",
    "fact_player_stats_df = player_stats_exploded.select(\n",
    "    col(\"Fixture_ID\").cast(\"int\"),\n",
    "    col(\"Team_ID\").cast(\"int\"),\n",
    "    col(\"Players.player.id\").cast(\"int\").alias(\"Player_ID\"),\n",
    "    when(col(\"Players.statistics.games.minutes\").isNotNull(), col(\"Players.statistics.games.minutes\").getItem(0)).otherwise(lit(None)).cast(\"int\").alias(\"Minutes_Played\"),\n",
    "    when(col(\"Players.statistics.games.position\").isNotNull(), col(\"Players.statistics.games.position\").getItem(0)).otherwise(lit(None)).alias(\"Position\"),\n",
    "    when(col(\"Players.statistics.games.rating\").isNotNull(), col(\"Players.statistics.games.rating\").getItem(0)).otherwise(lit(None)).cast(\"float\").alias(\"Rating\"),\n",
    "    when(col(\"Players.statistics.games.substitute\").isNotNull(), col(\"Players.statistics.games.substitute\").getItem(0)).otherwise(lit(None)).cast(\"boolean\").alias(\"Substitute\"),\n",
    "    when(col(\"Players.statistics.goals.total\").isNotNull(), col(\"Players.statistics.goals.total\").getItem(0)).otherwise(lit(None)).cast(\"int\").alias(\"Goals_Scored\"),\n",
    "    when(col(\"Players.statistics.goals.conceded\").isNotNull(), col(\"Players.statistics.goals.conceded\").getItem(0)).otherwise(lit(None)).cast(\"int\").alias(\"Goals_Conceded\"),\n",
    "    when(col(\"Players.statistics.goals.assists\").isNotNull(), col(\"Players.statistics.goals.assists\").getItem(0)).otherwise(lit(None)).cast(\"int\").alias(\"Assists\"),\n",
    "    when(col(\"Players.statistics.goals.saves\").isNotNull(), col(\"Players.statistics.goals.saves\").getItem(0)).otherwise(lit(None)).cast(\"int\").alias(\"Saves\"),\n",
    "    when(col(\"Players.statistics.passes.total\").isNotNull(), col(\"Players.statistics.passes.total\").getItem(0)).otherwise(lit(None)).cast(\"int\").alias(\"Passes\"),\n",
    "    when(col(\"Players.statistics.passes.key\").isNotNull(), col(\"Players.statistics.passes.key\").getItem(0)).otherwise(lit(None)).cast(\"int\").alias(\"Passes_Key\"),\n",
    "    when(col(\"Players.statistics.passes.accuracy\").isNotNull(), col(\"Players.statistics.passes.accuracy\").getItem(0)).otherwise(lit(None)).cast(\"float\").alias(\"Pass_Accuracy\"),\n",
    "    when(col(\"Players.statistics.cards.yellow\").isNotNull(), col(\"Players.statistics.cards.yellow\").getItem(0)).otherwise(lit(None)).cast(\"int\").alias(\"Yellow_Cards\"),\n",
    "    when(col(\"Players.statistics.cards.red\").isNotNull(), col(\"Players.statistics.cards.red\").getItem(0)).otherwise(lit(None)).cast(\"int\").alias(\"Red_Cards\"),\n",
    "    when(col(\"Players.statistics.shots.total\").isNotNull(), col(\"Players.statistics.shots.total\").getItem(0)).otherwise(lit(None)).cast(\"int\").alias(\"Shots\"),\n",
    "    when(col(\"Players.statistics.shots.on\").isNotNull(), col(\"Players.statistics.shots.on\").getItem(0)).otherwise(lit(None)).cast(\"int\").alias(\"Shots_On_Target\"),\n",
    "    when(col(\"Players.statistics.tackles.total\").isNotNull(), col(\"Players.statistics.tackles.total\").getItem(0)).otherwise(lit(None)).cast(\"int\").alias(\"Tackles\"),\n",
    "    when(col(\"Players.statistics.tackles.blocks\").isNotNull(), col(\"Players.statistics.tackles.blocks\").getItem(0)).otherwise(lit(None)).cast(\"int\").alias(\"Blocks\"),\n",
    "    when(col(\"Players.statistics.tackles.interceptions\").isNotNull(), col(\"Players.statistics.tackles.interceptions\").getItem(0)).otherwise(lit(None)).cast(\"int\").alias(\"Interceptions\"),\n",
    "    when(col(\"Players.statistics.duels.total\").isNotNull(), col(\"Players.statistics.duels.total\").getItem(0)).otherwise(lit(None)).cast(\"int\").alias(\"Duels\"),\n",
    "    when(col(\"Players.statistics.duels.won\").isNotNull(), col(\"Players.statistics.duels.won\").getItem(0)).otherwise(lit(None)).cast(\"int\").alias(\"Duels_Won\"),\n",
    "    when(col(\"Players.statistics.dribbles.attempts\").isNotNull(), col(\"Players.statistics.dribbles.attempts\").getItem(0)).otherwise(lit(None)).cast(\"int\").alias(\"Dribbles_Attempted\"),\n",
    "    when(col(\"Players.statistics.dribbles.success\").isNotNull(), col(\"Players.statistics.dribbles.success\").getItem(0)).otherwise(lit(None)).cast(\"int\").alias(\"Dribbles_Success\"),\n",
    "    when(col(\"Players.statistics.dribbles.past\").isNotNull(), col(\"Players.statistics.dribbles.past\").getItem(0)).otherwise(lit(None)).cast(\"int\").alias(\"Dribbled_Past\"),\n",
    "    when(col(\"Players.statistics.fouls.committed\").isNotNull(), col(\"Players.statistics.fouls.committed\").getItem(0)).otherwise(lit(None)).cast(\"int\").alias(\"Fouls_Committed\"),\n",
    "    when(col(\"Players.statistics.fouls.drawn\").isNotNull(), col(\"Players.statistics.fouls.drawn\").getItem(0)).otherwise(lit(None)).cast(\"int\").alias(\"Fouls_Drawn\"),\n",
    "    when(col(\"Players.statistics.penalty.scored\").isNotNull(), col(\"Players.statistics.penalty.scored\").getItem(0)).otherwise(lit(None)).cast(\"int\").alias(\"Penalty_Scored\"),\n",
    "    when(col(\"Players.statistics.penalty.missed\").isNotNull(), col(\"Players.statistics.penalty.missed\").getItem(0)).otherwise(lit(None)).cast(\"int\").alias(\"Penalty_Missed\"),\n",
    "    when(col(\"Players.statistics.penalty.saved\").isNotNull(), col(\"Players.statistics.penalty.saved\").getItem(0)).otherwise(lit(None)).cast(\"int\").alias(\"Penalty_Saved\"),\n",
    "    when(col(\"Players.statistics.penalty.won\").isNotNull(), col(\"Players.statistics.penalty.won\").getItem(0)).otherwise(lit(None)).cast(\"int\").alias(\"Penalty_Won\"),\n",
    "    when(col(\"Players.statistics.penalty.commited\").isNotNull(), col(\"Players.statistics.penalty.commited\").getItem(0)).otherwise(lit(None)).cast(\"int\").alias(\"Penalty_Commited\"),\n",
    "    when(col(\"Players.statistics.offsides\").isNotNull(), col(\"Players.statistics.offsides\").getItem(0)).otherwise(lit(None)).cast(\"int\").alias(\"Offside\"),\n",
    ")"
   ]
  },
  {
   "cell_type": "code",
   "execution_count": 19,
   "id": "eb76aca6-3866-4a97-a086-6dd4f8a25d2b",
   "metadata": {},
   "outputs": [
    {
     "name": "stderr",
     "output_type": "stream",
     "text": [
      "25/03/08 05:18:08 WARN SparkStringUtils: Truncated the string representation of a plan since it was too large. This behavior can be adjusted by setting 'spark.sql.debug.maxToStringFields'.\n"
     ]
    },
    {
     "name": "stdout",
     "output_type": "stream",
     "text": [
      "+----------+-------+---------+--------------+--------+------+----------+------------+--------------+-------+-----+------+----------+-------------+------------+---------+-----+---------------+-------+------+-------------+-----+---------+------------------+----------------+-------------+---------------+-----------+--------------+--------------+-------------+-----------+----------------+-------+\n",
      "|Fixture_ID|Team_ID|Player_ID|Minutes_Played|Position|Rating|Substitute|Goals_Scored|Goals_Conceded|Assists|Saves|Passes|Passes_Key|Pass_Accuracy|Yellow_Cards|Red_Cards|Shots|Shots_On_Target|Tackles|Blocks|Interceptions|Duels|Duels_Won|Dribbles_Attempted|Dribbles_Success|Dribbled_Past|Fouls_Committed|Fouls_Drawn|Penalty_Scored|Penalty_Missed|Penalty_Saved|Penalty_Won|Penalty_Commited|Offside|\n",
      "+----------+-------+---------+--------------+--------+------+----------+------------+--------------+-------+-----+------+----------+-------------+------------+---------+-----+---------------+-------+------+-------------+-----+---------+------------------+----------------+-------------+---------------+-----------+--------------+--------------+-------------+-----------+----------------+-------+\n",
      "|   1052350|   1579|    30670|            90|       G|   7.2|     false|        NULL|             1|   NULL|    2|    22|      NULL|         19.0|           0|        0| NULL|           NULL|   NULL|  NULL|            1| NULL|     NULL|              NULL|            NULL|         NULL|           NULL|       NULL|             0|             0|            0|       NULL|            NULL|   NULL|\n",
      "|   1052350|   1579|    30615|            90|       D|   7.3|     false|        NULL|             0|   NULL| NULL|    65|      NULL|         61.0|           0|        0| NULL|           NULL|      3|     1|            1|   11|       10|              NULL|            NULL|         NULL|           NULL|          2|             0|             0|         NULL|       NULL|            NULL|   NULL|\n",
      "|   1052350|   1579|    46792|            60|       D|   6.9|     false|        NULL|             0|   NULL| NULL|    41|      NULL|         40.0|           1|        0| NULL|           NULL|      3|  NULL|         NULL|    7|        3|              NULL|            NULL|         NULL|              2|       NULL|             0|             0|         NULL|       NULL|            NULL|   NULL|\n",
      "|   1052350|   1579|   193270|            90|       D|   7.2|     false|        NULL|             0|   NULL| NULL|    96|         1|         83.0|           0|        0|    1|           NULL|      2|     1|            1|    9|        6|              NULL|            NULL|         NULL|              1|          1|             0|             0|         NULL|       NULL|            NULL|   NULL|\n",
      "|   1052350|   1579|    31532|            86|       M|   7.2|     false|        NULL|             0|   NULL| NULL|    34|      NULL|         27.0|           0|        0|    2|              2|   NULL|     1|         NULL|    4|        2|                 1|               1|         NULL|              2|          1|             0|             0|         NULL|       NULL|            NULL|   NULL|\n",
      "|   1052350|   1579|      203|            90|       M|   7.0|     false|        NULL|             0|   NULL| NULL|    65|      NULL|         55.0|           0|        0| NULL|           NULL|      3|  NULL|            1|   11|        5|                 1|               1|            1|              1|          1|             0|             0|         NULL|       NULL|            NULL|   NULL|\n",
      "|   1052350|   1579|    30436|            90|       M|   7.0|     false|        NULL|             0|   NULL| NULL|    72|         2|         67.0|           1|        0| NULL|           NULL|   NULL|     1|            1|    5|        2|              NULL|            NULL|            1|              2|          1|             0|             0|         NULL|       NULL|            NULL|   NULL|\n",
      "|   1052350|   1579|    26828|            90|       M|   7.0|     false|        NULL|             0|      1| NULL|    46|         1|         40.0|           0|        0| NULL|           NULL|      2|  NULL|         NULL|    8|        3|                 2|            NULL|            2|           NULL|          1|             0|             0|         NULL|       NULL|            NULL|      1|\n",
      "|   1052350|   1579|    30431|            80|       F|   7.5|     false|           1|             0|   NULL| NULL|    32|         1|         28.0|           0|        0|    1|              1|      1|  NULL|            1|    7|        2|                 3|               1|         NULL|              1|       NULL|             0|             0|         NULL|       NULL|            NULL|   NULL|\n",
      "|   1052350|   1579|   312985|            60|       F|   6.9|     false|        NULL|             0|   NULL| NULL|    23|         1|         22.0|           0|        0|    1|              1|      2|  NULL|         NULL|    6|        2|                 1|            NULL|         NULL|              1|       NULL|             0|             0|         NULL|       NULL|            NULL|   NULL|\n",
      "|   1052350|   1579|   263481|            79|       F|   6.9|     false|        NULL|             0|   NULL| NULL|    12|         1|          9.0|           0|        0| NULL|           NULL|      2|  NULL|         NULL|   13|        6|                 2|               1|            1|              1|          2|             0|             0|         NULL|       NULL|            NULL|   NULL|\n",
      "|   1052350|   1579|   266813|            30|       M|   6.6|      true|        NULL|             0|   NULL| NULL|    18|      NULL|         16.0|           0|        0| NULL|           NULL|   NULL|  NULL|         NULL|    5|        3|                 1|               1|         NULL|              2|          2|             0|             0|         NULL|       NULL|            NULL|   NULL|\n",
      "|   1052350|   1579|    30603|            30|       F|   6.9|      true|        NULL|             0|   NULL| NULL|    16|         1|         12.0|           0|        0| NULL|           NULL|   NULL|  NULL|         NULL|    4|        1|                 1|               1|         NULL|              1|       NULL|             0|             0|         NULL|       NULL|            NULL|   NULL|\n",
      "|   1052350|   1579|     9072|            11|       F|   6.3|      true|        NULL|             0|   NULL| NULL|     3|      NULL|          2.0|           0|        0| NULL|           NULL|   NULL|  NULL|         NULL|    1|     NULL|              NULL|            NULL|         NULL|              1|       NULL|             0|             0|         NULL|       NULL|            NULL|      1|\n",
      "|   1052350|   1579|    30708|            10|       D|   6.7|      true|        NULL|             0|   NULL| NULL|     7|      NULL|          6.0|           0|        0| NULL|           NULL|   NULL|  NULL|         NULL|    1|     NULL|              NULL|            NULL|            1|           NULL|       NULL|             0|             0|         NULL|       NULL|            NULL|   NULL|\n",
      "|   1052350|   1579|   341646|            10|       M|   6.9|      true|        NULL|             0|   NULL| NULL|     8|      NULL|          6.0|           0|        0| NULL|           NULL|   NULL|  NULL|         NULL|    4|        3|                 4|               3|         NULL|           NULL|       NULL|             0|             0|         NULL|       NULL|            NULL|   NULL|\n",
      "|   1052350|   1579|    30704|          NULL|       G|  NULL|      true|        NULL|             0|   NULL| NULL|  NULL|      NULL|         NULL|           0|        0| NULL|           NULL|   NULL|  NULL|         NULL| NULL|     NULL|              NULL|            NULL|         NULL|           NULL|       NULL|             0|             0|         NULL|       NULL|            NULL|   NULL|\n",
      "|   1052350|   1579|    30820|          NULL|       G|  NULL|      true|        NULL|             0|   NULL| NULL|  NULL|      NULL|         NULL|           0|        0| NULL|           NULL|   NULL|  NULL|         NULL| NULL|     NULL|              NULL|            NULL|         NULL|           NULL|       NULL|             0|             0|         NULL|       NULL|            NULL|   NULL|\n",
      "|   1052350|   1579|   129553|          NULL|       G|  NULL|      true|        NULL|             0|   NULL| NULL|  NULL|      NULL|         NULL|           0|        0| NULL|           NULL|   NULL|  NULL|         NULL| NULL|     NULL|              NULL|            NULL|         NULL|           NULL|       NULL|             0|             0|         NULL|       NULL|            NULL|   NULL|\n",
      "|   1052350|   1579|   162570|          NULL|       D|  NULL|      true|        NULL|             0|   NULL| NULL|  NULL|      NULL|         NULL|           0|        0| NULL|           NULL|   NULL|  NULL|         NULL| NULL|     NULL|              NULL|            NULL|         NULL|           NULL|       NULL|             0|             0|         NULL|       NULL|            NULL|   NULL|\n",
      "+----------+-------+---------+--------------+--------+------+----------+------------+--------------+-------+-----+------+----------+-------------+------------+---------+-----+---------------+-------+------+-------------+-----+---------+------------------+----------------+-------------+---------------+-----------+--------------+--------------+-------------+-----------+----------------+-------+\n",
      "only showing top 20 rows\n",
      "\n"
     ]
    }
   ],
   "source": [
    "fact_player_stats_df.show()"
   ]
  },
  {
   "cell_type": "code",
   "execution_count": 20,
   "id": "8aed3c7a-05b2-49bc-b5aa-34d7af22abdb",
   "metadata": {},
   "outputs": [],
   "source": [
    "from pyspark.sql import functions as F\n",
    "from pyspark.sql.functions import col, explode, when, lit, regexp_replace\n",
    "\n",
    "# Extract Fixture_ID from parameters.fixture\n",
    "team_stats_df = team_stats_df.withColumn(\"Fixture_ID\", col(\"parameters.fixture\"))\n",
    "\n",
    "# Explode response array to extract individual fixture records\n",
    "team_stats_exploded = team_stats_df.selectExpr(\"Fixture_ID\", \"explode(response) as match_data\")\n",
    "\n",
    "# Explode statistics array for each team\n",
    "team_stats_exploded = team_stats_exploded.select(\n",
    "    col(\"Fixture_ID\"),\n",
    "    col(\"match_data.team.id\").alias(\"Team_ID\"),\n",
    "    col(\"match_data.team.name\").alias(\"Team_Name\"),\n",
    "    col(\"match_data.statistics\").alias(\"statistics\")\n",
    ").withColumn(\"statistics\", explode(col(\"statistics\")))\n",
    "\n",
    "# Extract specific statistics\n",
    "fact_team_stats_df = team_stats_exploded.select(\n",
    "    col(\"Fixture_ID\"),\n",
    "    col(\"Team_ID\"),\n",
    "    when(col(\"statistics.type\") == \"Shots on Goal\", col(\"statistics.value\").cast(\"int\")).otherwise(lit(None)).alias(\"Shots_on_Target\"),\n",
    "    when(col(\"statistics.type\") == \"Shots off Goal\", col(\"statistics.value\").cast(\"int\")).otherwise(lit(None)).alias(\"Shots_off_Target\"),\n",
    "    when(col(\"statistics.type\") == \"Total Shots\", col(\"statistics.value\").cast(\"int\")).otherwise(lit(None)).alias(\"Total_Shots\"),\n",
    "    when(col(\"statistics.type\") == \"Blocked Shots\", col(\"statistics.value\").cast(\"int\")).otherwise(lit(None)).alias(\"Blocked_Shots\"),\n",
    "    when(col(\"statistics.type\") == \"Shots insidebox\", col(\"statistics.value\").cast(\"int\")).otherwise(lit(None)).alias(\"Shots_Inside_Box\"),\n",
    "    when(col(\"statistics.type\") == \"Shots outsidebox\", col(\"statistics.value\").cast(\"int\")).otherwise(lit(None)).alias(\"Shots_Outside_Box\"),\n",
    "    when(col(\"statistics.type\") == \"Fouls\", col(\"statistics.value\").cast(\"int\")).otherwise(lit(None)).alias(\"Fouls\"),\n",
    "    when(col(\"statistics.type\") == \"Corner Kicks\", col(\"statistics.value\").cast(\"int\")).otherwise(lit(None)).alias(\"Corner_Kicks\"),\n",
    "    when(col(\"statistics.type\") == \"Offsides\", col(\"statistics.value\").cast(\"int\")).otherwise(lit(None)).alias(\"Offsides\"),\n",
    "    when(col(\"statistics.type\") == \"Ball Possession\", regexp_replace(col(\"statistics.value\"), \"%\", \"\").cast(\"int\")).otherwise(lit(None)).alias(\"Possession_Percentage\"),\n",
    "    when(col(\"statistics.type\") == \"Yellow Cards\", col(\"statistics.value\").cast(\"int\")).otherwise(lit(None)).alias(\"Yellow_Cards\"),\n",
    "    when(col(\"statistics.type\") == \"Red Cards\", col(\"statistics.value\").cast(\"int\")).otherwise(lit(None)).alias(\"Red_Cards\"),\n",
    "    when(col(\"statistics.type\") == \"Goalkeeper Saves\", col(\"statistics.value\").cast(\"int\")).otherwise(lit(None)).alias(\"Goalkeeper_Saves\"),\n",
    "    when(col(\"statistics.type\") == \"Total passes\", col(\"statistics.value\").cast(\"int\")).otherwise(lit(None)).alias(\"Total_Passes\"),\n",
    "    when(col(\"statistics.type\") == \"Passes accurate\", col(\"statistics.value\").cast(\"int\")).otherwise(lit(None)).alias(\"Passes_Accurate\"),\n",
    "    when(col(\"statistics.type\") == \"Passes %\", regexp_replace(col(\"statistics.value\"), \"%\", \"\").cast(\"int\")).otherwise(lit(None)).alias(\"Passes_Percent\"),\n",
    "    when(col(\"statistics.type\") == \"expected_goals\", col(\"statistics.value\").cast(\"float\")).otherwise(lit(None)).alias(\"Expected_Goals\")\n",
    ")\n",
    "\n",
    "# Group by Fixture_ID and Team_ID to aggregate statistics\n",
    "fact_team_stats_df = fact_team_stats_df.groupBy(\n",
    "    \"Fixture_ID\", \"Team_ID\"\n",
    ").agg(\n",
    "    F.max(\"Shots_on_Target\").alias(\"Shots_on_Target\"),\n",
    "    F.max(\"Shots_off_Target\").alias(\"Shots_off_Target\"),\n",
    "    F.max(\"Total_Shots\").alias(\"Total_Shots\"),\n",
    "    F.max(\"Blocked_Shots\").alias(\"Blocked_Shots\"),\n",
    "    F.max(\"Shots_Inside_Box\").alias(\"Shots_Inside_Box\"),\n",
    "    F.max(\"Shots_Outside_Box\").alias(\"Shots_Outside_Box\"),\n",
    "    F.max(\"Fouls\").alias(\"Fouls\"),\n",
    "    F.max(\"Corner_Kicks\").alias(\"Corner_Kicks\"),\n",
    "    F.max(\"Offsides\").alias(\"Offsides\"),\n",
    "    F.avg(\"Possession_Percentage\").alias(\"Possession_Percentage\"),  \n",
    "    F.max(\"Yellow_Cards\").alias(\"Yellow_Cards\"),\n",
    "    F.max(\"Red_Cards\").alias(\"Red_Cards\"),\n",
    "    F.max(\"Goalkeeper_Saves\").alias(\"Goalkeeper_Saves\"),\n",
    "    F.max(\"Total_Passes\").alias(\"Total_Passes\"),\n",
    "    F.max(\"Passes_Accurate\").alias(\"Passes_Accurate\"),\n",
    "    F.avg(\"Passes_Percent\").alias(\"Passes_Percent\"),  \n",
    "    F.max(\"Expected_Goals\").alias(\"Expected_Goals\")\n",
    ")\n"
   ]
  },
  {
   "cell_type": "code",
   "execution_count": 21,
   "id": "03eef990-83b9-4c02-8b32-7acb0725c451",
   "metadata": {
    "scrolled": true
   },
   "outputs": [],
   "source": [
    "from pyspark.sql.functions import col, when\n",
    "\n",
    "# Join fact_team_stats_df with dim_fixtures_df on Fixture_ID\n",
    "fact_team_stats_df = fact_team_stats_df.join(\n",
    "    dim_fixtures_df,\n",
    "    on=\"Fixture_ID\",\n",
    "    how=\"left\"\n",
    ")\n",
    "\n",
    "# Derive Goals_Scored, Goals_Conceded, and Winner_Team\n",
    "fact_team_stats_df = fact_team_stats_df.withColumn(\n",
    "    \"Goals_Scored\",\n",
    "    when(col(\"Team_ID\") == col(\"Home_Team_ID\"), col(\"Goals_Home\"))\n",
    "    .when(col(\"Team_ID\") == col(\"Away_Team_ID\"), col(\"Goals_Away\"))\n",
    "    .otherwise(lit(None))\n",
    ")\n",
    "\n",
    "fact_team_stats_df = fact_team_stats_df.withColumn(\n",
    "    \"Goals_Conceded\",\n",
    "    when(col(\"Team_ID\") == col(\"Home_Team_ID\"), col(\"Goals_Away\"))\n",
    "    .when(col(\"Team_ID\") == col(\"Away_Team_ID\"), col(\"Goals_Home\"))\n",
    "    .otherwise(lit(None))\n",
    ")\n",
    "\n",
    "fact_team_stats_df = fact_team_stats_df.withColumn(\n",
    "    \"Winner_Team\",\n",
    "    when(col(\"Team_ID\") == col(\"Winner_Team_ID\"), lit(True)).otherwise(lit(False))\n",
    ")\n",
    "\n",
    "# Select only relevant columns\n",
    "fact_team_stats_df = fact_team_stats_df.select(\n",
    "    \"Fixture_ID\", \"Team_ID\", \"Goals_Scored\", \"Goals_Conceded\", \"Winner_Team\",\n",
    "    \"Shots_on_Target\", \"Shots_off_Target\", \"Total_Shots\", \"Blocked_Shots\",\n",
    "    \"Shots_Inside_Box\", \"Shots_Outside_Box\", \"Fouls\", \"Corner_Kicks\", \"Offsides\",\n",
    "    \"Possession_Percentage\", \"Yellow_Cards\", \"Red_Cards\", \"Goalkeeper_Saves\",\n",
    "    \"Total_Passes\", \"Passes_Accurate\", \"Passes_Percent\", \"Expected_Goals\"\n",
    ")"
   ]
  },
  {
   "cell_type": "code",
   "execution_count": 22,
   "id": "e8a43e90-84b1-4c93-99f5-834d200386a6",
   "metadata": {},
   "outputs": [],
   "source": [
    "# Drop unnecessary columns from dim_fixtures_df\n",
    "dim_fixtures_df = dim_fixtures_df.drop(\n",
    "    \"Goals_Home\", \"Goals_Away\", \"Home_win\", \"Away_win\", \"Winner_Team_ID\", \"Status\"\n",
    ")"
   ]
  },
  {
   "cell_type": "code",
   "execution_count": 23,
   "id": "cde90680-2c75-402e-b9ee-381a44e0053d",
   "metadata": {},
   "outputs": [
    {
     "name": "stdout",
     "output_type": "stream",
     "text": [
      "+----------+---------+---------+------------+------------+--------+-------------------+-------------------+\n",
      "|Fixture_ID|League_ID|Season_ID|Home_Team_ID|Away_Team_ID|Venue_ID|         Match_Date|         Match_Time|\n",
      "+----------+---------+---------+------------+------------+--------+-------------------+-------------------+\n",
      "|   1037952|      140|        3|         723|         728|   19216|2023-08-11 13:30:00|2025-03-08 13:30:00|\n",
      "|   1037956|      140|        3|         536|         532|    1494|2023-08-11 16:00:00|2025-03-08 16:00:00|\n",
      "|   1037960|      140|        3|         548|         547|    1491|2023-08-12 11:00:00|2025-03-08 11:00:00|\n",
      "|   1037957|      140|        3|         534|         798|    1481|2023-08-12 13:30:00|2025-03-08 13:30:00|\n",
      "|   1037953|      140|        3|         531|         541|    1460|2023-08-12 15:30:00|2025-03-08 15:30:00|\n",
      "|   1037955|      140|        3|         538|         727|    1467|2023-08-13 11:00:00|2025-03-08 11:00:00|\n",
      "|   1037959|      140|        3|         533|         543|    1498|2023-08-13 13:30:00|2025-03-08 13:30:00|\n",
      "|   1037958|      140|        3|         546|         529|   20422|2023-08-13 15:30:00|2025-03-08 15:30:00|\n",
      "|   1037961|      140|        3|         724|         542|   11915|2023-08-14 13:30:00|2025-03-08 13:30:00|\n",
      "|   1037954|      140|        3|         530|         715|   19217|2023-08-14 15:30:00|2025-03-08 15:30:00|\n",
      "|   1037964|      140|        3|         798|         533|   19940|2023-08-18 13:30:00|2025-03-08 13:30:00|\n",
      "|   1037971|      140|        3|         532|         534|    1497|2023-08-18 15:30:00|2025-03-08 15:30:00|\n",
      "|   1037969|      140|        3|         548|         538|    1491|2023-08-19 11:00:00|2025-03-08 11:00:00|\n",
      "|   1037962|      140|        3|         723|         541|   19216|2023-08-19 13:30:00|2025-03-08 13:30:00|\n",
      "|   1037967|      140|        3|         727|         531|    1486|2023-08-19 15:30:00|2025-03-08 15:30:00|\n",
      "|   1037970|      140|        3|         547|         546|    1478|2023-08-20 13:00:00|2025-03-08 13:00:00|\n",
      "|   1037963|      140|        3|         529|         724|   19939|2023-08-20 13:30:00|2025-03-08 13:30:00|\n",
      "|   1037968|      140|        3|         543|         530|    1489|2023-08-20 15:30:00|2025-03-08 15:30:00|\n",
      "|   1037966|      140|        3|         542|         536|    1470|2023-08-21 13:00:00|2025-03-08 13:00:00|\n",
      "|   1037965|      140|        3|         715|         728|    1479|2023-08-21 15:30:00|2025-03-08 15:30:00|\n",
      "+----------+---------+---------+------------+------------+--------+-------------------+-------------------+\n",
      "only showing top 20 rows\n",
      "\n"
     ]
    }
   ],
   "source": [
    "dim_fixtures_df.show()"
   ]
  },
  {
   "cell_type": "code",
   "execution_count": 24,
   "id": "705aef79-c234-4463-a11c-29d49388e264",
   "metadata": {},
   "outputs": [
    {
     "name": "stderr",
     "output_type": "stream",
     "text": [
      "[Stage 53:===============>  (5 + 1) / 6][Stage 54:=========>        (4 + 4) / 8]"
     ]
    },
    {
     "name": "stdout",
     "output_type": "stream",
     "text": [
      "+----------+-------+------------+--------------+-----------+---------------+----------------+-----------+-------------+----------------+-----------------+-----+------------+--------+---------------------+------------+---------+----------------+------------+---------------+--------------+--------------+\n",
      "|Fixture_ID|Team_ID|Goals_Scored|Goals_Conceded|Winner_Team|Shots_on_Target|Shots_off_Target|Total_Shots|Blocked_Shots|Shots_Inside_Box|Shots_Outside_Box|Fouls|Corner_Kicks|Offsides|Possession_Percentage|Yellow_Cards|Red_Cards|Goalkeeper_Saves|Total_Passes|Passes_Accurate|Passes_Percent|Expected_Goals|\n",
      "+----------+-------+------------+--------------+-----------+---------------+----------------+-----------+-------------+----------------+-----------------+-----+------------+--------+---------------------+------------+---------+----------------+------------+---------------+--------------+--------------+\n",
      "|   1035552|     48|           1|             3|      false|              2|               1|          3|            0|               3|                0|   12|           2|       0|                 29.0|           1|     NULL|               9|         307|            246|          80.0|          0.36|\n",
      "|   1038314|    728|           0|             3|      false|              4|               7|         15|            4|               7|                8|    7|           5|       3|                 28.0|           2|     NULL|               3|         240|            178|          74.0|          1.28|\n",
      "|   1049179|    160|           1|             2|      false|              4|               3|         13|            6|              11|                2|    9|           7|    NULL|                 63.0|           4|     NULL|               3|         516|            438|          85.0|          0.98|\n",
      "|   1049185|    172|           4|             0|       true|             11|               7|         21|            3|              13|                8|    5|           8|       0|                 60.0|           1|     NULL|               5|         706|            659|          93.0|          1.59|\n",
      "|   1200850|    158|           0|             3|      false|              6|               9|         22|            7|              19|                3|   15|          14|    NULL|                 36.0|           1|     NULL|               5|         400|            245|          61.0|          NULL|\n",
      "|   1038319|    538|           2|             1|       true|              5|               3|          8|            0|               7|                1|   12|           2|       2|                 51.0|           1|     NULL|               2|         449|            356|          79.0|          1.68|\n",
      "|   1038319|    715|           1|             2|      false|              3|               6|         11|            2|               7|                4|   15|          10|       2|                 49.0|           2|     NULL|               3|         416|            320|          77.0|          1.92|\n",
      "|   1049183|    157|           2|             4|      false|              4|               4|         11|            3|              10|                1|    9|           5|       3|                 52.0|           1|     NULL|               5|         510|            445|          87.0|          1.52|\n",
      "|   1049186|    180|           4|             1|       true|              8|               4|         16|            4|               8|                8|    9|           5|       2|                 48.0|           1|     NULL|               8|         389|            308|          79.0|          1.01|\n",
      "|   1052631|    514|           3|             3|      false|              6|               3|         14|            5|               7|                7|    9|           3|       1|                 34.0|           1|     NULL|               8|         276|            217|          79.0|          1.66|\n",
      "|   1038323|    532|           2|             2|      false|              1|               8|         12|            3|              10|                2|   18|           2|       1|                 46.0|        NULL|     NULL|               2|         433|            356|          82.0|          1.96|\n",
      "|   1038315|    543|           0|             2|      false|              9|               3|         18|            6|              13|                5|   12|           6|       3|                 68.0|           3|     NULL|               1|         626|            539|          86.0|          1.69|\n",
      "|   1052624|    502|           3|             2|       true|              5|               3|         11|            3|              10|                1|   14|           5|       1|                 63.0|           4|     NULL|               4|         434|            364|          84.0|          1.99|\n",
      "|   1038312|    536|           0|             2|      false|              4|               5|          9|            0|               7|                2|    5|           3|       0|                 47.0|           1|     NULL|               4|         417|            338|          81.0|          0.87|\n",
      "|   1200849|    158|           3|             0|       true|              7|               9|         21|            5|              14|                7|   14|           8|       3|                 40.0|           0|     NULL|               3|         331|            237|          72.0|          NULL|\n",
      "|   1038327|    531|           1|             0|       true|              1|               3|          7|            3|               5|                2|   13|           2|       2|                 37.0|           1|     NULL|               4|         338|            229|          68.0|           0.7|\n",
      "|   1049184|    176|           1|             4|      false|              7|              12|         27|            8|              21|                6|   12|           8|    NULL|                 54.0|           1|     NULL|               9|         423|            332|          78.0|          2.09|\n",
      "|   1035547|     65|           2|             1|       true|              6|               4|         12|            2|               8|                4|    5|           3|       2|                 27.0|           0|     NULL|               3|         246|            176|          72.0|          1.78|\n",
      "|   1038328|    530|           2|             0|       true|              4|               3|         10|            3|               9|                1|   15|           4|       4|                 40.0|           5|        1|               2|         364|            310|          85.0|          2.17|\n",
      "|   1049178|    181|           0|             4|      false|              0|               4|          6|            2|               4|                2|   11|           3|       2|                 27.0|           3|     NULL|               5|         252|            195|          77.0|          0.32|\n",
      "+----------+-------+------------+--------------+-----------+---------------+----------------+-----------+-------------+----------------+-----------------+-----+------------+--------+---------------------+------------+---------+----------------+------------+---------------+--------------+--------------+\n",
      "only showing top 20 rows\n",
      "\n"
     ]
    },
    {
     "name": "stderr",
     "output_type": "stream",
     "text": [
      "                                                                                "
     ]
    }
   ],
   "source": [
    "fact_team_stats_df.show()"
   ]
  },
  {
   "cell_type": "code",
   "execution_count": 25,
   "id": "3f7a43d2-a41b-4129-b614-9b41eb5b3fe0",
   "metadata": {},
   "outputs": [],
   "source": [
    "# Explode the nested structure to extract player information\n",
    "players_exploded = players_df.selectExpr(\"explode(response) as response\") \\\n",
    "    .selectExpr(\"response.team.id as Team_ID\", \"explode(response.players) as player_data\") \\\n",
    "    .select(\n",
    "        col(\"player_data.player.id\").alias(\"Player_ID\"),\n",
    "        col(\"player_data.player.name\").alias(\"Player_Name\"),\n",
    "        col(\"Team_ID\")\n",
    "    )\n",
    "\n",
    "# Remove duplicates to keep only distinct Player_IDs\n",
    "dim_players_df = players_exploded.dropDuplicates([\"Player_ID\"])"
   ]
  },
  {
   "cell_type": "code",
   "execution_count": 26,
   "id": "012627aa-200c-4623-b72d-a22f27f56a0a",
   "metadata": {},
   "outputs": [
    {
     "name": "stderr",
     "output_type": "stream",
     "text": [
      "[Stage 64:=========================================>              (52 + 8) / 70]"
     ]
    },
    {
     "name": "stdout",
     "output_type": "stream",
     "text": [
      "+---------+------------------+-------+\n",
      "|Player_ID|       Player_Name|Team_ID|\n",
      "+---------+------------------+-------+\n",
      "|        5|     Manuel Akanji|     50|\n",
      "|       17| Christian Pulišić|    489|\n",
      "|       19|      Julian Weigl|    163|\n",
      "|       22|Jacob Bruun Larsen|     44|\n",
      "|       25|        Marco Reus|    165|\n",
      "|       26|       Marius Wolf|    165|\n",
      "|       29|         Jan Oblak|    530|\n",
      "|       31|José María Giménez|    530|\n",
      "|       39|      Stefan Savić|    530|\n",
      "|       50|              Koke|    530|\n",
      "|       52|    Sergio Camello|    728|\n",
      "|       54|       Diego Costa|     39|\n",
      "|       56| Antoine Griezmann|    530|\n",
      "|       95| Benoît Badiashile|     49|\n",
      "|       98| Benjamin Henrichs|    173|\n",
      "|      104|   Carlos Vinícius|     36|\n",
      "|      110| Han-Noah Massengo|     44|\n",
      "|      119|    Radamel Falcao|    728|\n",
      "|      126|        Iñaki Peña|    529|\n",
      "|      130|     Nélson Semedo|     39|\n",
      "+---------+------------------+-------+\n",
      "only showing top 20 rows\n",
      "\n"
     ]
    },
    {
     "name": "stderr",
     "output_type": "stream",
     "text": [
      "                                                                                "
     ]
    }
   ],
   "source": [
    "dim_players_df.show()"
   ]
  },
  {
   "cell_type": "code",
   "execution_count": 28,
   "id": "ed6708d4-848d-4699-94c9-d93a47e99b9c",
   "metadata": {},
   "outputs": [],
   "source": [
    "# Save DataFrames as tables (optional)\n",
    "dim_seasons_df.coalesce(1).write.mode(\"overwrite\").csv(\"transformed_data/dim_seasons\", header=True)\n",
    "dim_countries_df.coalesce(1).write.mode(\"overwrite\").csv(\"transformed_data/dim_countries\", header=True)\n",
    "dim_leagues_df.write.mode(\"overwrite\").csv(\"transformed_data/dim_leagues\", header=True)\n",
    "dim_venues_df.write.mode(\"overwrite\").csv(\"transformed_data/dim_venues\", header=True)\n",
    "dim_teams_df.write.mode(\"overwrite\").csv(\"transformed_data/dim_teams\", header=True)\n",
    "dim_fixtures_df.write.mode(\"overwrite\").csv(\"transformed_data/dim_fixtures\", header=True)\n",
    "fact_player_stats_df.write.mode(\"overwrite\").csv(\"transformed_data/fact_player_stats\", header=True)\n",
    "fact_team_stats_df.write.mode(\"overwrite\").csv(\"transformed_data/fact_team_stats\", header=True)\n",
    "dim_players_df.write.mode(\"overwrite\").csv(\"transformed_data/dim_players\", header=True)"
   ]
  },
  {
   "cell_type": "code",
   "execution_count": null,
   "id": "1cc157c8-0e5a-48c6-91d7-9f0cdf28e4a1",
   "metadata": {},
   "outputs": [],
   "source": []
  },
  {
   "cell_type": "code",
   "execution_count": null,
   "id": "d599820b-e79c-4cd8-b1bc-9e8cd5e487af",
   "metadata": {},
   "outputs": [],
   "source": []
  }
 ],
 "metadata": {
  "kernelspec": {
   "display_name": "Python 3 (ipykernel)",
   "language": "python",
   "name": "python3"
  },
  "language_info": {
   "codemirror_mode": {
    "name": "ipython",
    "version": 3
   },
   "file_extension": ".py",
   "mimetype": "text/x-python",
   "name": "python",
   "nbconvert_exporter": "python",
   "pygments_lexer": "ipython3",
   "version": "3.9.6"
  }
 },
 "nbformat": 4,
 "nbformat_minor": 5
}
