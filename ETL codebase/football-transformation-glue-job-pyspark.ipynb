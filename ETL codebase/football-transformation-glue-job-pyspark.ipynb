{
	"metadata": {
		"kernelspec": {
			"name": "glue_pyspark",
			"display_name": "Glue PySpark",
			"language": "python"
		},
		"language_info": {
			"name": "Python_Glue_Session",
			"mimetype": "text/x-python",
			"codemirror_mode": {
				"name": "python",
				"version": 3
			},
			"pygments_lexer": "python3",
			"file_extension": ".py"
		}
	},
	"nbformat_minor": 4,
	"nbformat": 4,
	"cells": [
		{
			"cell_type": "markdown",
			"source": "# AWS Glue Transformation Job Notebook for Football ETL & Analytics Project\n##### You are now running a AWS Glue Studio notebook; To start using your notebook you need to start an AWS Glue Interactive Session.\n",
			"metadata": {
				"editable": true,
				"trusted": true
			}
		},
		{
			"cell_type": "code",
			"source": "%idle_timeout 2880\n%glue_version 5.0\n%worker_type G.1X\n%number_of_workers 5\n\nimport sys\nfrom awsglue.transforms import *\nfrom awsglue.utils import getResolvedOptions\nfrom pyspark.context import SparkContext\nfrom awsglue.context import GlueContext\nfrom awsglue.job import Job\n\nsc = SparkContext.getOrCreate()\nglueContext = GlueContext(sc)\nspark = glueContext.spark_session\njob = Job(glueContext)",
			"metadata": {
				"trusted": true,
				"editable": true
			},
			"execution_count": 39,
			"outputs": [
				{
					"name": "stderr",
					"text": "You are already connected to a glueetl session 74d08827-8b67-47dd-a094-aa3b60663b73.\n\nNo change will be made to the current session that is set as glueetl. The session configuration change will apply to newly created sessions.\n",
					"output_type": "stream"
				},
				{
					"name": "stdout",
					"text": "Current idle_timeout is 2880 minutes.\nidle_timeout has been set to 2880 minutes.\n",
					"output_type": "stream"
				},
				{
					"name": "stderr",
					"text": "You are already connected to a glueetl session 74d08827-8b67-47dd-a094-aa3b60663b73.\n\nNo change will be made to the current session that is set as glueetl. The session configuration change will apply to newly created sessions.\n",
					"output_type": "stream"
				},
				{
					"name": "stdout",
					"text": "Setting Glue version to: 5.0\n",
					"output_type": "stream"
				},
				{
					"name": "stderr",
					"text": "You are already connected to a glueetl session 74d08827-8b67-47dd-a094-aa3b60663b73.\n\nNo change will be made to the current session that is set as glueetl. The session configuration change will apply to newly created sessions.\n",
					"output_type": "stream"
				},
				{
					"name": "stdout",
					"text": "Previous worker type: G.1X\nSetting new worker type to: G.1X\n",
					"output_type": "stream"
				},
				{
					"name": "stderr",
					"text": "You are already connected to a glueetl session 74d08827-8b67-47dd-a094-aa3b60663b73.\n\nNo change will be made to the current session that is set as glueetl. The session configuration change will apply to newly created sessions.\n",
					"output_type": "stream"
				},
				{
					"name": "stdout",
					"text": "Previous number of workers: 5\nSetting new number of workers to: 5\n\n",
					"output_type": "stream"
				}
			]
		},
		{
			"cell_type": "code",
			"source": "from pyspark.sql import SparkSession\nfrom awsglue.dynamicframe import DynamicFrame\nfrom pyspark.sql import functions as F\nfrom pyspark.sql.functions import col, lit, row_number, monotonically_increasing_id, when, to_timestamp, date_format, explode, regexp_replace",
			"metadata": {
				"trusted": true,
				"tags": []
			},
			"execution_count": 49,
			"outputs": [
				{
					"name": "stdout",
					"text": "\n",
					"output_type": "stream"
				}
			]
		},
		{
			"cell_type": "code",
			"source": "# Read Raw Data from AWS Glue Catalog\nfixtures_df = glueContext.create_dynamic_frame.from_catalog(\n    database=\"football_db\", table_name=\"fixtures\"\n).toDF()",
			"metadata": {
				"trusted": true,
				"tags": []
			},
			"execution_count": 41,
			"outputs": [
				{
					"name": "stdout",
					"text": "/usr/lib/spark/python/lib/pyspark.zip/pyspark/sql/dataframe.py:147: UserWarning: DataFrame constructor is internal. Do not directly use it.\n  warnings.warn(\"DataFrame constructor is internal. Do not directly use it.\")\n",
					"output_type": "stream"
				}
			]
		},
		{
			"cell_type": "code",
			"source": "teams_df = glueContext.create_dynamic_frame.from_catalog(\n    database=\"football_db\", table_name=\"teams\"\n).toDF()",
			"metadata": {
				"trusted": true,
				"tags": []
			},
			"execution_count": 5,
			"outputs": [
				{
					"name": "stdout",
					"text": "\n",
					"output_type": "stream"
				}
			]
		},
		{
			"cell_type": "code",
			"source": "team_stats_df = glueContext.create_dynamic_frame.from_catalog(\n    database=\"football_db\", table_name=\"team_stats\"\n).toDF()",
			"metadata": {
				"trusted": true,
				"tags": []
			},
			"execution_count": 6,
			"outputs": [
				{
					"name": "stdout",
					"text": "\n",
					"output_type": "stream"
				}
			]
		},
		{
			"cell_type": "code",
			"source": "players_df = glueContext.create_dynamic_frame.from_catalog(\n    database=\"football_db\", table_name=\"player_stats\"\n).toDF()",
			"metadata": {
				"trusted": true,
				"tags": []
			},
			"execution_count": 7,
			"outputs": [
				{
					"name": "stdout",
					"text": "\n",
					"output_type": "stream"
				}
			]
		},
		{
			"cell_type": "code",
			"source": "# Explode the response array to get individual match records\nfixtures_exploded = fixtures_df.selectExpr(\"explode(response) as match_data\")",
			"metadata": {
				"trusted": true,
				"tags": []
			},
			"execution_count": 65,
			"outputs": [
				{
					"name": "stdout",
					"text": "\n",
					"output_type": "stream"
				}
			]
		},
		{
			"cell_type": "code",
			"source": "# Manually populate Dim_Seasons\ndim_seasons_data = [(2021, 1), (2022, 2), (2023, 3), (2024, 4), (2025, 5)]\ndim_seasons_df = spark.createDataFrame(dim_seasons_data, [\"Season_Year\", \"Season_ID\"])",
			"metadata": {
				"trusted": true,
				"tags": []
			},
			"execution_count": 66,
			"outputs": [
				{
					"name": "stdout",
					"text": "\n",
					"output_type": "stream"
				}
			]
		},
		{
			"cell_type": "code",
			"source": "dim_seasons_df.show()",
			"metadata": {
				"trusted": true,
				"tags": []
			},
			"execution_count": 67,
			"outputs": [
				{
					"name": "stdout",
					"text": "+-----------+---------+\n|Season_Year|Season_ID|\n+-----------+---------+\n|       2021|        1|\n|       2022|        2|\n|       2023|        3|\n|       2024|        4|\n|       2025|        5|\n+-----------+---------+\n",
					"output_type": "stream"
				}
			]
		},
		{
			"cell_type": "code",
			"source": "seasons_dynamic_frame = DynamicFrame.fromDF(dim_seasons_df, glueContext, \"seasons_dynamic_frame\")\n\n# Specify the S3 output path where you want to store the CSV file\noutput_path = \"s3://football-data-engineering-project/processed/dim_seasons\"\n\n# Write the DynamicFrame to S3 as a CSV file\nglueContext.write_dynamic_frame.from_options(\n    frame = seasons_dynamic_frame,\n    connection_type = \"s3\",\n    connection_options = {\"path\": output_path},\n    format = \"csv\",\n    format_options = {\"writeHeader\": True},\n)",
			"metadata": {
				"trusted": true,
				"tags": []
			},
			"execution_count": 68,
			"outputs": [
				{
					"name": "stdout",
					"text": "<awsglue.dynamicframe.DynamicFrame object at 0x7f0163b6dd90>\n",
					"output_type": "stream"
				}
			]
		},
		{
			"cell_type": "code",
			"source": "# Extract Dim_Countries dynamically\ndim_countries_data = [(\"England\", 1), (\"Spain\", 2), (\"Germany\", 3), (\"Italy\", 4), (\"France\", 5)]\ndim_countries_df = spark.createDataFrame(dim_countries_data, [\"Country_Name\", \"Country_ID\"])",
			"metadata": {
				"trusted": true,
				"tags": []
			},
			"execution_count": 71,
			"outputs": [
				{
					"name": "stdout",
					"text": "\n",
					"output_type": "stream"
				}
			]
		},
		{
			"cell_type": "code",
			"source": "dim_countries_df.show()",
			"metadata": {
				"trusted": true,
				"tags": []
			},
			"execution_count": 72,
			"outputs": [
				{
					"name": "stdout",
					"text": "+------------+----------+\n|Country_Name|Country_ID|\n+------------+----------+\n|     England|         1|\n|       Spain|         2|\n|     Germany|         3|\n|       Italy|         4|\n|      France|         5|\n+------------+----------+\n",
					"output_type": "stream"
				}
			]
		},
		{
			"cell_type": "code",
			"source": "countries_dynamic_frame = DynamicFrame.fromDF(dim_countries_df, glueContext, \"countries_dynamic_frame\")\n\n# Specify the S3 output path where you want to store the CSV file\noutput_path = \"s3://football-data-engineering-project/processed/dim_countries\"\n\n# Write the DynamicFrame to S3 as a CSV file\nglueContext.write_dynamic_frame.from_options(\n    frame = countries_dynamic_frame,\n    connection_type = \"s3\",\n    connection_options = {\"path\": output_path},\n    format = \"csv\",\n    format_options = {\"writeHeader\": True},\n)",
			"metadata": {
				"trusted": true,
				"tags": []
			},
			"execution_count": 73,
			"outputs": [
				{
					"name": "stdout",
					"text": "<awsglue.dynamicframe.DynamicFrame object at 0x7f016359f950>\n",
					"output_type": "stream"
				}
			]
		},
		{
			"cell_type": "code",
			"source": "# Extract Dim_Leagues dynamically\ndim_leagues_df = fixtures_exploded.select(\n    col(\"match_data.league.id\").alias(\"League_ID\"),\n    col(\"match_data.league.name\").alias(\"League_Name\"),\n    col(\"match_data.league.country\").alias(\"Country_Name\"),\n    col(\"match_data.league.logo\").alias(\"League_Logo\")\n).distinct()\n\n# Assign Country_ID from Dim_Countries\ndim_leagues_df = dim_leagues_df.join(dim_countries_df, \"Country_Name\", \"left\") \\\n                             .select(\"League_ID\", \"League_Name\", \"Country_ID\", \"League_Logo\")",
			"metadata": {
				"trusted": true,
				"tags": []
			},
			"execution_count": 75,
			"outputs": [
				{
					"name": "stdout",
					"text": "\n",
					"output_type": "stream"
				}
			]
		},
		{
			"cell_type": "code",
			"source": "dim_leagues_df.show()",
			"metadata": {
				"trusted": true,
				"tags": []
			},
			"execution_count": 76,
			"outputs": [
				{
					"name": "stdout",
					"text": "+---------+--------------+----------+--------------------+\n|League_ID|   League_Name|Country_ID|         League_Logo|\n+---------+--------------+----------+--------------------+\n|       39|Premier League|         1|https://media.api...|\n+---------+--------------+----------+--------------------+\n",
					"output_type": "stream"
				}
			]
		},
		{
			"cell_type": "code",
			"source": "leagues_dynamic_frame = DynamicFrame.fromDF(dim_leagues_df, glueContext, \"leagues_dynamic_frame\")\n\n# Specify the S3 output path where you want to store the CSV file\noutput_path = \"s3://football-data-engineering-project/processed/dim_leagues\"\n\n# Write the DynamicFrame to S3 as a CSV file\nglueContext.write_dynamic_frame.from_options(\n    frame = leagues_dynamic_frame,\n    connection_type = \"s3\",\n    connection_options = {\"path\": output_path},\n    format = \"csv\",\n    format_options = {\"writeHeader\": True},\n)",
			"metadata": {
				"trusted": true,
				"tags": []
			},
			"execution_count": 77,
			"outputs": [
				{
					"name": "stdout",
					"text": "<awsglue.dynamicframe.DynamicFrame object at 0x7f016359f050>\n",
					"output_type": "stream"
				}
			]
		},
		{
			"cell_type": "code",
			"source": "# Explode response array to extract individual team records\nteams_exploded = teams_df.selectExpr(\"explode(response) as team_data\")",
			"metadata": {
				"trusted": true,
				"tags": []
			},
			"execution_count": 78,
			"outputs": [
				{
					"name": "stdout",
					"text": "\n",
					"output_type": "stream"
				}
			]
		},
		{
			"cell_type": "code",
			"source": "# Extract Dim_Venues\ndim_venues_df = teams_exploded.select(\n    col(\"team_data.venue.id\").alias(\"Venue_ID\"),\n    col(\"team_data.venue.name\").alias(\"Venue_Name\"),\n    col(\"team_data.venue.city\").alias(\"City\"),\n    col(\"team_data.team.country\").alias(\"Country_Name\"),\n    col(\"team_data.venue.capacity\").alias(\"Capacity\")\n).distinct()\n\n# Assign Country_ID from Dim_Countries\ndim_venues_df = dim_venues_df.join(dim_countries_df, \"Country_Name\", \"left\") \\\n                             .select(\"Venue_ID\", \"Venue_Name\", \"City\", \"Country_ID\", \"Capacity\")",
			"metadata": {
				"trusted": true,
				"tags": []
			},
			"execution_count": 79,
			"outputs": [
				{
					"name": "stdout",
					"text": "\n",
					"output_type": "stream"
				}
			]
		},
		{
			"cell_type": "code",
			"source": "dim_venues_df.show()",
			"metadata": {
				"trusted": true,
				"tags": []
			},
			"execution_count": 80,
			"outputs": [
				{
					"name": "stdout",
					"text": "+--------+--------------------+--------------------+----------+--------+\n|Venue_ID|          Venue_Name|                City|Country_ID|Capacity|\n+--------+--------------------+--------------------+----------+--------+\n|     556|        Old Trafford|          Manchester|         1|   76212|\n|     562|     St. James' Park| Newcastle upon Tyne|         1|   52758|\n|     600|    Molineux Stadium|Wolverhampton, We...|         1|   34624|\n|    8560|       Goodison Park|           Liverpool|         1|   40569|\n|     495|          Villa Park|          Birmingham|         1|   42788|\n|     512|           Turf Moor|             Burnley|         1|   22546|\n|     593|Tottenham Hotspur...|              London|         1|   62850|\n|     519|     Stamford Bridge|              London|         1|   41841|\n|     508|The American Expr...| Falmer, East Sussex|         1|   31872|\n|     566|     The City Ground|Nottingham, Notti...|         1|   30576|\n|     581|        Bramall Lane|           Sheffield|         1|   32702|\n|   10503|Gtech Community S...|Brentford, Middlesex|         1|   17250|\n|     551|     Kenilworth Road| Luton, Bedfordshire|         1|   11500|\n|     525|       Selhurst Park|              London|         1|   26309|\n|     555|      Etihad Stadium|          Manchester|         1|   55097|\n|     504|    Vitality Stadium| Bournemouth, Dorset|         1|   12000|\n|     494|    Emirates Stadium|              London|         1|   60383|\n|     598|      London Stadium|              London|         1|   62500|\n|     535|      Craven Cottage|              London|         1|   25700|\n|     550|             Anfield|           Liverpool|         1|   55212|\n+--------+--------------------+--------------------+----------+--------+\n",
					"output_type": "stream"
				}
			]
		},
		{
			"cell_type": "code",
			"source": "venues_dynamic_frame = DynamicFrame.fromDF(dim_venues_df, glueContext, \"venues_dynamic_frame\")\n\n# Specify the S3 output path where you want to store the CSV file\noutput_path = \"s3://football-data-engineering-project/processed/dim_venues\"\n\n# Write the DynamicFrame to S3 as a CSV file\nglueContext.write_dynamic_frame.from_options(\n    frame = venues_dynamic_frame,\n    connection_type = \"s3\",\n    connection_options = {\"path\": output_path},\n    format = \"csv\",\n    format_options = {\"writeHeader\": True},\n)",
			"metadata": {
				"trusted": true,
				"tags": []
			},
			"execution_count": 81,
			"outputs": [
				{
					"name": "stdout",
					"text": "<awsglue.dynamicframe.DynamicFrame object at 0x7f01635c01d0>\n",
					"output_type": "stream"
				}
			]
		},
		{
			"cell_type": "code",
			"source": "# Extract Dim_Teams\ndim_teams_df = teams_exploded.select(\n    col(\"team_data.team.id\").alias(\"Team_ID\"),\n    col(\"team_data.team.name\").alias(\"Team_Name\"),\n    col(\"team_data.team.logo\").alias(\"Team_Logo\"),\n    col(\"team_data.team.country\").alias(\"Country_Name\"),\n    col(\"team_data.venue.id\").alias(\"Venue_ID\")\n).distinct()\n\n# Assign League_ID by joining with Dim_Leagues\ndim_teams_df = dim_teams_df.join(dim_countries_df, \"Country_Name\", \"left\") \\\n                           .select(\"Team_ID\", \"Team_Name\", \"Venue_ID\", \"Team_Logo\", \"Country_ID\") \\\n                           .join(dim_leagues_df, \"Country_ID\", \"left\") \\\n                           .select(\"Team_ID\", \"Team_Name\", \"League_ID\", \"Venue_ID\", \"Team_Logo\")",
			"metadata": {
				"trusted": true,
				"tags": []
			},
			"execution_count": 87,
			"outputs": [
				{
					"name": "stdout",
					"text": "\n",
					"output_type": "stream"
				}
			]
		},
		{
			"cell_type": "code",
			"source": "dim_teams_df.show()",
			"metadata": {
				"trusted": true,
				"tags": []
			},
			"execution_count": 88,
			"outputs": [
				{
					"name": "stdout",
					"text": "+-------+-----------------+---------+--------+--------------------+\n|Team_ID|        Team_Name|League_ID|Venue_ID|           Team_Logo|\n+-------+-----------------+---------+--------+--------------------+\n|     66|      Aston Villa|       39|     495|https://media.api...|\n|     42|          Arsenal|       39|     494|https://media.api...|\n|     33|Manchester United|       39|     556|https://media.api...|\n|     51|         Brighton|       39|     508|https://media.api...|\n|     39|           Wolves|       39|     600|https://media.api...|\n|     47|        Tottenham|       39|     593|https://media.api...|\n|     65|Nottingham Forest|       39|     566|https://media.api...|\n|   1359|            Luton|       39|     551|https://media.api...|\n|     35|      Bournemouth|       39|     504|https://media.api...|\n|     48|         West Ham|       39|     598|https://media.api...|\n|     36|           Fulham|       39|     535|https://media.api...|\n|     44|          Burnley|       39|     512|https://media.api...|\n|     49|          Chelsea|       39|     519|https://media.api...|\n|     62|    Sheffield Utd|       39|     581|https://media.api...|\n|     40|        Liverpool|       39|     550|https://media.api...|\n|     55|        Brentford|       39|   10503|https://media.api...|\n|     45|          Everton|       39|    8560|https://media.api...|\n|     52|   Crystal Palace|       39|     525|https://media.api...|\n|     34|        Newcastle|       39|     562|https://media.api...|\n|     50|  Manchester City|       39|     555|https://media.api...|\n+-------+-----------------+---------+--------+--------------------+\n",
					"output_type": "stream"
				}
			]
		},
		{
			"cell_type": "code",
			"source": "teams_dynamic_frame = DynamicFrame.fromDF(dim_teams_df, glueContext, \"teams_dynamic_frame\")\n\n# Specify the S3 output path where you want to store the CSV file\noutput_path = \"s3://football-data-engineering-project/processed/dim_teams\"\n\n# Write the DynamicFrame to S3 as a CSV file\nglueContext.write_dynamic_frame.from_options(\n    frame = teams_dynamic_frame,\n    connection_type = \"s3\",\n    connection_options = {\"path\": output_path},\n    format = \"csv\",\n    format_options = {\"writeHeader\": True},\n)",
			"metadata": {
				"trusted": true,
				"tags": []
			},
			"execution_count": 89,
			"outputs": [
				{
					"name": "stdout",
					"text": "<awsglue.dynamicframe.DynamicFrame object at 0x7f01635c1fd0>\n",
					"output_type": "stream"
				}
			]
		},
		{
			"cell_type": "code",
			"source": "# Explode the nested structure to extract player information\nplayers_exploded = players_df.selectExpr(\"explode(response) as response\") \\\n    .selectExpr(\"response.team.id as Team_ID\", \"explode(response.players) as player_data\") \\\n    .select(\n        col(\"player_data.player.id\").alias(\"Player_ID\"),\n        col(\"player_data.player.name\").alias(\"Player_Name\"),\n        col(\"Team_ID\")\n    )\n\n# Remove duplicates to keep only distinct Player_IDs\ndim_players_df = players_exploded.dropDuplicates([\"Player_ID\"])",
			"metadata": {
				"trusted": true,
				"tags": []
			},
			"execution_count": 90,
			"outputs": [
				{
					"name": "stdout",
					"text": "\n",
					"output_type": "stream"
				}
			]
		},
		{
			"cell_type": "code",
			"source": "dim_players_df.show()",
			"metadata": {
				"trusted": true,
				"tags": []
			},
			"execution_count": 91,
			"outputs": [
				{
					"name": "stdout",
					"text": "+---------+------------------+-------+\n|Player_ID|       Player_Name|Team_ID|\n+---------+------------------+-------+\n|        5|     Manuel Akanji|     50|\n|       14|    Mahmoud Dahoud|     51|\n|       18|      Jadon Sancho|     33|\n|       22|Jacob Bruun Larsen|     44|\n|       23|      Sergio Gómez|     50|\n|       44|             Rodri|     50|\n|       49|     Thomas Partey|     42|\n|       62|     Ethan Horvath|     65|\n|       74|    Sofyan Amrabat|     33|\n|       76| Marvelous Nakamba|   1359|\n|       83|    Arnaut Danjuma|     45|\n|       95| Benoît Badiashile|     49|\n|      104|   Carlos Vinícius|     36|\n|      105|  Fodé Ballo-Touré|     36|\n|      110| Han-Noah Massengo|     44|\n|      130|     Nélson Semedo|     39|\n|      133|   Clément Lenglet|     66|\n|      147| Philippe Coutinho|     66|\n|      161|    Alfie Whiteman|     47|\n|      163|      Serge Aurier|     65|\n+---------+------------------+-------+\nonly showing top 20 rows\n",
					"output_type": "stream"
				}
			]
		},
		{
			"cell_type": "code",
			"source": "players_dynamic_frame = DynamicFrame.fromDF(dim_players_df, glueContext, \"players_dynamic_frame\")\n\n# Specify the S3 output path where you want to store the CSV file\noutput_path = \"s3://football-data-engineering-project/processed/dim_players\"\n\n# Write the DynamicFrame to S3 as a CSV file\nglueContext.write_dynamic_frame.from_options(\n    frame = players_dynamic_frame,\n    connection_type = \"s3\",\n    connection_options = {\"path\": output_path},\n    format = \"csv\",\n    format_options = {\"writeHeader\": True},\n)",
			"metadata": {
				"trusted": true,
				"tags": []
			},
			"execution_count": 92,
			"outputs": [
				{
					"name": "stdout",
					"text": "<awsglue.dynamicframe.DynamicFrame object at 0x7f01635b3410>\n",
					"output_type": "stream"
				}
			]
		},
		{
			"cell_type": "code",
			"source": "# Extract Fixture_ID from parameters.fixture\nplayer_stats_df = players_df.withColumn(\"Fixture_ID\", col(\"parameters.fixture\"))\n\n# Explode response array to extract individual fixture records\nplayer_stats_exploded = player_stats_df.selectExpr(\"Fixture_ID\", \"explode(response) as match_data\")\n\n# Explode players array to get individual player records\nplayer_stats_exploded = player_stats_exploded.select(\n    col(\"Fixture_ID\"),\n    col(\"match_data.team.id\").alias(\"Team_ID\"),\n    col(\"match_data.team.name\").alias(\"Team_Name\"),\n    col(\"match_data.players\").alias(\"Players\")\n).withColumn(\"Players\", explode(col(\"Players\")))\n\n# Extract Player-Level Statistics\nfact_player_stats_df = player_stats_exploded.select(\n    col(\"Fixture_ID\").cast(\"int\"),\n    col(\"Team_ID\").cast(\"int\"),\n    col(\"Players.player.id\").cast(\"int\").alias(\"Player_ID\"),\n    when(col(\"Players.statistics.games.minutes\").isNotNull(), col(\"Players.statistics.games.minutes\").getItem(0)).otherwise(lit(None)).cast(\"int\").alias(\"Minutes_Played\"),\n    when(col(\"Players.statistics.games.position\").isNotNull(), col(\"Players.statistics.games.position\").getItem(0)).otherwise(lit(None)).alias(\"Position\"),\n    when(col(\"Players.statistics.games.rating\").isNotNull(), col(\"Players.statistics.games.rating\").getItem(0)).otherwise(lit(None)).cast(\"float\").alias(\"Rating\"),\n    when(col(\"Players.statistics.games.substitute\").isNotNull(), col(\"Players.statistics.games.substitute\").getItem(0)).otherwise(lit(None)).cast(\"boolean\").alias(\"Substitute\"),\n    when(col(\"Players.statistics.goals.total\").isNotNull(), col(\"Players.statistics.goals.total\").getItem(0)).otherwise(lit(None)).cast(\"int\").alias(\"Goals_Scored\"),\n    when(col(\"Players.statistics.goals.conceded\").isNotNull(), col(\"Players.statistics.goals.conceded\").getItem(0)).otherwise(lit(None)).cast(\"int\").alias(\"Goals_Conceded\"),\n    when(col(\"Players.statistics.goals.assists\").isNotNull(), col(\"Players.statistics.goals.assists\").getItem(0)).otherwise(lit(None)).cast(\"int\").alias(\"Assists\"),\n    when(col(\"Players.statistics.goals.saves\").isNotNull(), col(\"Players.statistics.goals.saves\").getItem(0)).otherwise(lit(None)).cast(\"int\").alias(\"Saves\"),\n    when(col(\"Players.statistics.passes.total\").isNotNull(), col(\"Players.statistics.passes.total\").getItem(0)).otherwise(lit(None)).cast(\"int\").alias(\"Passes\"),\n    when(col(\"Players.statistics.passes.key\").isNotNull(), col(\"Players.statistics.passes.key\").getItem(0)).otherwise(lit(None)).cast(\"int\").alias(\"Passes_Key\"),\n    when(col(\"Players.statistics.passes.accuracy\").isNotNull(), col(\"Players.statistics.passes.accuracy\").getItem(0)).otherwise(lit(None)).cast(\"float\").alias(\"Pass_Accuracy\"),\n    when(col(\"Players.statistics.cards.yellow\").isNotNull(), col(\"Players.statistics.cards.yellow\").getItem(0)).otherwise(lit(None)).cast(\"int\").alias(\"Yellow_Cards\"),\n    when(col(\"Players.statistics.cards.red\").isNotNull(), col(\"Players.statistics.cards.red\").getItem(0)).otherwise(lit(None)).cast(\"int\").alias(\"Red_Cards\"),\n    when(col(\"Players.statistics.shots.total\").isNotNull(), col(\"Players.statistics.shots.total\").getItem(0)).otherwise(lit(None)).cast(\"int\").alias(\"Shots\"),\n    when(col(\"Players.statistics.shots.on\").isNotNull(), col(\"Players.statistics.shots.on\").getItem(0)).otherwise(lit(None)).cast(\"int\").alias(\"Shots_On_Target\"),\n    when(col(\"Players.statistics.tackles.total\").isNotNull(), col(\"Players.statistics.tackles.total\").getItem(0)).otherwise(lit(None)).cast(\"int\").alias(\"Tackles\"),\n    when(col(\"Players.statistics.tackles.blocks\").isNotNull(), col(\"Players.statistics.tackles.blocks\").getItem(0)).otherwise(lit(None)).cast(\"int\").alias(\"Blocks\"),\n    when(col(\"Players.statistics.tackles.interceptions\").isNotNull(), col(\"Players.statistics.tackles.interceptions\").getItem(0)).otherwise(lit(None)).cast(\"int\").alias(\"Interceptions\"),\n    when(col(\"Players.statistics.duels.total\").isNotNull(), col(\"Players.statistics.duels.total\").getItem(0)).otherwise(lit(None)).cast(\"int\").alias(\"Duels\"),\n    when(col(\"Players.statistics.duels.won\").isNotNull(), col(\"Players.statistics.duels.won\").getItem(0)).otherwise(lit(None)).cast(\"int\").alias(\"Duels_Won\"),\n    when(col(\"Players.statistics.dribbles.attempts\").isNotNull(), col(\"Players.statistics.dribbles.attempts\").getItem(0)).otherwise(lit(None)).cast(\"int\").alias(\"Dribbles_Attempted\"),\n    when(col(\"Players.statistics.dribbles.success\").isNotNull(), col(\"Players.statistics.dribbles.success\").getItem(0)).otherwise(lit(None)).cast(\"int\").alias(\"Dribbles_Success\"),\n    when(col(\"Players.statistics.dribbles.past\").isNotNull(), col(\"Players.statistics.dribbles.past\").getItem(0)).otherwise(lit(None)).cast(\"int\").alias(\"Dribbled_Past\"),\n    when(col(\"Players.statistics.fouls.committed\").isNotNull(), col(\"Players.statistics.fouls.committed\").getItem(0)).otherwise(lit(None)).cast(\"int\").alias(\"Fouls_Committed\"),\n    when(col(\"Players.statistics.fouls.drawn\").isNotNull(), col(\"Players.statistics.fouls.drawn\").getItem(0)).otherwise(lit(None)).cast(\"int\").alias(\"Fouls_Drawn\"),\n    when(col(\"Players.statistics.penalty.scored\").isNotNull(), col(\"Players.statistics.penalty.scored\").getItem(0)).otherwise(lit(None)).cast(\"int\").alias(\"Penalty_Scored\"),\n    when(col(\"Players.statistics.penalty.missed\").isNotNull(), col(\"Players.statistics.penalty.missed\").getItem(0)).otherwise(lit(None)).cast(\"int\").alias(\"Penalty_Missed\"),\n    when(col(\"Players.statistics.penalty.saved\").isNotNull(), col(\"Players.statistics.penalty.saved\").getItem(0)).otherwise(lit(None)).cast(\"int\").alias(\"Penalty_Saved\"),\n    when(col(\"Players.statistics.penalty.won\").isNotNull(), col(\"Players.statistics.penalty.won\").getItem(0)).otherwise(lit(None)).cast(\"int\").alias(\"Penalty_Won\"),\n    when(col(\"Players.statistics.penalty.commited\").isNotNull(), col(\"Players.statistics.penalty.commited\").getItem(0)).otherwise(lit(None)).cast(\"int\").alias(\"Penalty_Commited\"),\n    when(col(\"Players.statistics.offsides\").isNotNull(), col(\"Players.statistics.offsides\").getItem(0)).otherwise(lit(None)).cast(\"int\").alias(\"Offside\"),\n)",
			"metadata": {
				"trusted": true,
				"tags": []
			},
			"execution_count": 95,
			"outputs": [
				{
					"name": "stdout",
					"text": "\n",
					"output_type": "stream"
				}
			]
		},
		{
			"cell_type": "code",
			"source": "fact_player_stats_df.show()",
			"metadata": {
				"trusted": true,
				"tags": []
			},
			"execution_count": 96,
			"outputs": [
				{
					"name": "stdout",
					"text": "+----------+-------+---------+--------------+--------+------+----------+------------+--------------+-------+-----+------+----------+-------------+------------+---------+-----+---------------+-------+------+-------------+-----+---------+------------------+----------------+-------------+---------------+-----------+--------------+--------------+-------------+-----------+----------------+-------+\n|Fixture_ID|Team_ID|Player_ID|Minutes_Played|Position|Rating|Substitute|Goals_Scored|Goals_Conceded|Assists|Saves|Passes|Passes_Key|Pass_Accuracy|Yellow_Cards|Red_Cards|Shots|Shots_On_Target|Tackles|Blocks|Interceptions|Duels|Duels_Won|Dribbles_Attempted|Dribbles_Success|Dribbled_Past|Fouls_Committed|Fouls_Drawn|Penalty_Scored|Penalty_Missed|Penalty_Saved|Penalty_Won|Penalty_Commited|Offside|\n+----------+-------+---------+--------------+--------+------+----------+------------+--------------+-------+-----+------+----------+-------------+------------+---------+-----+---------------+-------+------+-------------+-----+---------+------------------+----------------+-------------+---------------+-----------+--------------+--------------+-------------+-----------+----------------+-------+\n|   1035037|     44|   162489|            90|       G|   7.5|     false|        NULL|             3|   NULL|    5|    44|      NULL|         31.0|           0|        0| NULL|           NULL|   NULL|  NULL|         NULL| NULL|     NULL|              NULL|            NULL|         NULL|           NULL|       NULL|             0|             0|            0|       NULL|            NULL|   NULL|\n|   1035037|     44|    19331|            90|       D|   6.5|     false|        NULL|             0|   NULL| NULL|    38|      NULL|         33.0|           0|        0| NULL|           NULL|      2|  NULL|         NULL|    4|        3|              NULL|            NULL|         NULL|              1|       NULL|             0|             0|         NULL|       NULL|            NULL|   NULL|\n|   1035037|     44|   323449|            90|       D|   6.3|     false|        NULL|             0|   NULL| NULL|    36|      NULL|         30.0|           0|        0| NULL|           NULL|      2|     1|            1|   11|        5|              NULL|            NULL|            1|              1|          1|             0|             0|         NULL|       NULL|            NULL|   NULL|\n|   1035037|     44|    17597|            90|       D|   6.5|     false|        NULL|             0|   NULL| NULL|    56|      NULL|         42.0|           0|        0| NULL|           NULL|   NULL|     2|            1|    5|        3|              NULL|            NULL|         NULL|           NULL|          1|             0|             0|         NULL|       NULL|            NULL|   NULL|\n|   1035037|     44|    25628|            74|       D|   6.9|     false|        NULL|             0|   NULL| NULL|    35|      NULL|         28.0|           0|        0| NULL|           NULL|      4|  NULL|            4|    7|        5|                 1|            NULL|         NULL|              1|       NULL|             0|             0|         NULL|       NULL|            NULL|   NULL|\n|   1035037|     44|     8661|            90|       D|   6.2|     false|        NULL|             0|   NULL| NULL|    22|         1|         17.0|           0|        0| NULL|           NULL|   NULL|     1|            1|    3|        1|                 1|            NULL|         NULL|              1|          1|             0|             0|         NULL|       NULL|            NULL|   NULL|\n|   1035037|     44|   359603|            61|       M|   6.5|     false|        NULL|             0|   NULL| NULL|    13|         2|          8.0|           0|        0|    1|           NULL|   NULL|  NULL|         NULL|    5|     NULL|                 2|            NULL|         NULL|              1|       NULL|             0|             0|         NULL|       NULL|            NULL|   NULL|\n|   1035037|     44|     1934|            89|       M|   6.5|     false|        NULL|             0|   NULL| NULL|    28|      NULL|         23.0|           0|        0| NULL|           NULL|   NULL|     1|         NULL|    5|        2|              NULL|            NULL|            1|              2|       NULL|             0|             0|         NULL|       NULL|            NULL|   NULL|\n|   1035037|     44|    19827|            90|       M|   6.3|     false|        NULL|             0|   NULL| NULL|    41|      NULL|         36.0|           0|        0| NULL|           NULL|      1|  NULL|         NULL|    4|        3|              NULL|            NULL|            1|           NULL|          2|             0|             0|         NULL|       NULL|            NULL|   NULL|\n|   1035037|     44|    98936|            89|       M|   6.5|     false|        NULL|             0|   NULL| NULL|    20|         1|         14.0|           0|        0|    1|           NULL|      2|  NULL|         NULL|   13|        5|                 3|               1|         NULL|              1|       NULL|             0|             0|         NULL|       NULL|            NULL|   NULL|\n|   1035037|     44|   123469|            61|       F|   6.9|     false|        NULL|             0|   NULL| NULL|    11|      NULL|         10.0|           0|        0|    1|              1|      1|  NULL|         NULL|   11|        6|                 4|               2|         NULL|           NULL|          2|             0|             0|         NULL|       NULL|            NULL|   NULL|\n|   1035037|     44|   129169|            33|       F|   6.3|      true|        NULL|             0|   NULL| NULL|     8|         1|          8.0|           0|        1| NULL|           NULL|   NULL|  NULL|         NULL|    2|        1|              NULL|            NULL|         NULL|              1|          1|             0|             0|         NULL|       NULL|            NULL|   NULL|\n|   1035037|     44|       22|            29|       F|   6.6|      true|        NULL|             0|   NULL| NULL|     5|      NULL|          3.0|           0|        0|    1|           NULL|   NULL|  NULL|         NULL|    4|        2|              NULL|            NULL|         NULL|              2|       NULL|             0|             0|         NULL|       NULL|            NULL|   NULL|\n|   1035037|     44|     8589|            16|       F|   5.9|      true|        NULL|             0|   NULL| NULL|     4|      NULL|          4.0|           0|        0| NULL|           NULL|   NULL|  NULL|         NULL|    6|     NULL|                 4|            NULL|         NULL|           NULL|       NULL|             0|             0|         NULL|       NULL|            NULL|   NULL|\n|   1035037|     44|    19268|             8|       M|   6.3|      true|        NULL|             0|   NULL| NULL|     2|      NULL|          2.0|           0|        0| NULL|           NULL|   NULL|  NULL|         NULL| NULL|     NULL|              NULL|            NULL|         NULL|           NULL|       NULL|             0|             0|         NULL|       NULL|            NULL|   NULL|\n|   1035037|     44|    18948|             8|       M|   6.3|      true|        NULL|             0|   NULL| NULL|     2|      NULL|          1.0|           0|        0| NULL|           NULL|   NULL|  NULL|         NULL| NULL|     NULL|              NULL|            NULL|         NULL|           NULL|       NULL|             0|             0|         NULL|       NULL|            NULL|   NULL|\n|   1035037|     44|      616|          NULL|       G|  NULL|      true|        NULL|             0|   NULL| NULL|  NULL|      NULL|         NULL|           0|        0| NULL|           NULL|   NULL|  NULL|         NULL| NULL|     NULL|              NULL|            NULL|         NULL|           NULL|       NULL|             0|             0|         NULL|       NULL|            NULL|   NULL|\n|   1035037|     44|    47903|          NULL|       D|  NULL|      true|        NULL|             0|   NULL| NULL|  NULL|      NULL|         NULL|           0|        0| NULL|           NULL|   NULL|  NULL|         NULL| NULL|     NULL|              NULL|            NULL|         NULL|           NULL|       NULL|             0|             0|         NULL|       NULL|            NULL|   NULL|\n|   1035037|     44|    18922|          NULL|       M|  NULL|      true|        NULL|             0|   NULL| NULL|  NULL|      NULL|         NULL|           0|        0| NULL|           NULL|   NULL|  NULL|         NULL| NULL|     NULL|              NULL|            NULL|         NULL|           NULL|       NULL|             0|             0|         NULL|       NULL|            NULL|   NULL|\n|   1035037|     44|     2790|          NULL|       M|  NULL|      true|        NULL|             0|   NULL| NULL|  NULL|      NULL|         NULL|           0|        0| NULL|           NULL|   NULL|  NULL|         NULL| NULL|     NULL|              NULL|            NULL|         NULL|           NULL|       NULL|             0|             0|         NULL|       NULL|            NULL|   NULL|\n+----------+-------+---------+--------------+--------+------+----------+------------+--------------+-------+-----+------+----------+-------------+------------+---------+-----+---------------+-------+------+-------------+-----+---------+------------------+----------------+-------------+---------------+-----------+--------------+--------------+-------------+-----------+----------------+-------+\nonly showing top 20 rows\n",
					"output_type": "stream"
				}
			]
		},
		{
			"cell_type": "code",
			"source": "player_stats_dynamic_frame = DynamicFrame.fromDF(dim_players_df, glueContext, \"player_stats_dynamic_frame\")\n\n# Specify the S3 output path where you want to store the CSV file\noutput_path = \"s3://football-data-engineering-project/processed/fact_player_stats\"\n\n# Write the DynamicFrame to S3 as a CSV file\nglueContext.write_dynamic_frame.from_options(\n    frame = teams_dynamic_frame,\n    connection_type = \"s3\",\n    connection_options = {\"path\": output_path},\n    format = \"csv\",\n    format_options = {\"writeHeader\": True},\n)",
			"metadata": {
				"trusted": true,
				"tags": []
			},
			"execution_count": 97,
			"outputs": [
				{
					"name": "stdout",
					"text": "<awsglue.dynamicframe.DynamicFrame object at 0x7f0170df4290>\n",
					"output_type": "stream"
				}
			]
		},
		{
			"cell_type": "code",
			"source": "# Extract Dim_Fixtures\ndim_fixtures_df = fixtures_exploded.select(\n    col(\"match_data.fixture.id\").alias(\"Fixture_ID\"),\n    col(\"match_data.league.id\").alias(\"League_ID\"),\n    col(\"match_data.league.season\").alias(\"Season_Year\"),\n    col(\"match_data.teams.home.id\").alias(\"Home_Team_ID\"),\n    col(\"match_data.teams.away.id\").alias(\"Away_Team_ID\"),\n    col(\"match_data.fixture.venue.id\").alias(\"Venue_ID\"),\n    to_timestamp(col(\"match_data.fixture.date\")).alias(\"Match_Date\"),\n    to_timestamp(date_format(col(\"match_data.fixture.date\"), \"HH:mm:ss\")).alias(\"Match_Time\"),\n    col(\"match_data.goals.home\").alias(\"Goals_Home\"),\n    col(\"match_data.goals.away\").alias(\"Goals_Away\"),\n    when(col(\"match_data.teams.home.winner\") == True, lit(True)).otherwise(lit(False)).alias(\"Home_win\"),\n    when(col(\"match_data.teams.away.winner\") == True, lit(True)).otherwise(lit(False)).alias(\"Away_win\"),\n    when(col(\"match_data.teams.home.winner\") == True, col(\"match_data.teams.home.id\"))\n    .when(col(\"match_data.teams.away.winner\") == True, col(\"match_data.teams.away.id\"))\n    .otherwise(lit(None)).alias(\"Winner_Team_ID\"),\n    col(\"match_data.fixture.status.short\").alias(\"Status\")\n)\n\n# Assign Season_ID by joining with Dim_Seasons\ndim_fixtures_df = dim_fixtures_df.join(dim_seasons_df, dim_fixtures_df.Season_Year == dim_seasons_df.Season_Year, \"left\") \\\n                                   .select(\"Fixture_ID\", \"League_ID\", \"Season_ID\", \"Home_Team_ID\", \"Away_Team_ID\", \n                                           \"Venue_ID\", \"Match_Date\", \"Match_Time\", \"Goals_Home\", \"Goals_Away\",\n                                           \"Home_win\", \"Away_win\", \"Winner_Team_ID\", \"Status\")",
			"metadata": {
				"trusted": true,
				"tags": []
			},
			"execution_count": 93,
			"outputs": [
				{
					"name": "stdout",
					"text": "\n",
					"output_type": "stream"
				}
			]
		},
		{
			"cell_type": "code",
			"source": "dim_fixtures_df.show()",
			"metadata": {
				"trusted": true,
				"tags": []
			},
			"execution_count": 94,
			"outputs": [
				{
					"name": "stdout",
					"text": "+----------+---------+---------+------------+------------+--------+-------------------+-------------------+----------+----------+--------+--------+--------------+------+\n|Fixture_ID|League_ID|Season_ID|Home_Team_ID|Away_Team_ID|Venue_ID|         Match_Date|         Match_Time|Goals_Home|Goals_Away|Home_win|Away_win|Winner_Team_ID|Status|\n+----------+---------+---------+------------+------------+--------+-------------------+-------------------+----------+----------+--------+--------+--------------+------+\n|   1035037|       39|        3|          44|          50|     512|2023-08-11 19:00:00|2025-03-04 19:00:00|         0|         3|   false|    true|            50|    FT|\n|   1035038|       39|        3|          42|          65|     494|2023-08-12 11:30:00|2025-03-04 11:30:00|         2|         1|    true|   false|            42|    FT|\n|   1035039|       39|        3|          35|          48|     504|2023-08-12 14:00:00|2025-03-04 14:00:00|         1|         1|   false|   false|          NULL|    FT|\n|   1035041|       39|        3|          45|          36|    8560|2023-08-12 14:00:00|2025-03-04 14:00:00|         0|         1|   false|    true|            36|    FT|\n|   1035040|       39|        3|          51|        1359|     508|2023-08-12 14:00:00|2025-03-04 14:00:00|         4|         1|    true|   false|            51|    FT|\n|   1035042|       39|        3|          62|          52|     581|2023-08-12 14:00:00|2025-03-04 14:00:00|         0|         1|   false|    true|            52|    FT|\n|   1035043|       39|        3|          34|          66|     562|2023-08-12 16:30:00|2025-03-04 16:30:00|         5|         1|    true|   false|            34|    FT|\n|   1035044|       39|        3|          55|          47|   10503|2023-08-13 13:00:00|2025-03-04 13:00:00|         2|         2|   false|   false|          NULL|    FT|\n|   1035045|       39|        3|          49|          40|     519|2023-08-13 15:30:00|2025-03-04 15:30:00|         1|         1|   false|   false|          NULL|    FT|\n|   1035046|       39|        3|          33|          39|     556|2023-08-14 19:00:00|2025-03-04 19:00:00|         1|         0|    true|   false|            33|    FT|\n|   1035053|       39|        3|          65|          62|     566|2023-08-18 18:45:00|2025-03-04 18:45:00|         2|         1|    true|   false|            65|    FT|\n|   1035049|       39|        3|          36|          55|     535|2023-08-19 14:00:00|2025-03-04 14:00:00|         0|         3|   false|    true|            55|    FT|\n|   1035056|       39|        3|          39|          51|     600|2023-08-19 14:00:00|2025-03-04 14:00:00|         1|         4|   false|    true|            51|    FT|\n|   1035050|       39|        3|          40|          35|     550|2023-08-19 14:00:00|2025-03-04 14:00:00|         3|         1|    true|   false|            40|    FT|\n|   1035054|       39|        3|          47|          33|     593|2023-08-19 16:30:00|2025-03-04 16:30:00|         2|         0|    true|   false|            47|    FT|\n|   1035052|       39|        3|          50|          34|     555|2023-08-19 19:00:00|2025-03-04 19:00:00|         1|         0|    true|   false|            50|    FT|\n|   1035047|       39|        3|          66|          45|     495|2023-08-20 13:00:00|2025-03-04 13:00:00|         4|         0|    true|   false|            66|    FT|\n|   1035055|       39|        3|          48|          49|     598|2023-08-20 15:30:00|2025-03-04 15:30:00|         3|         1|    true|   false|            48|    FT|\n|   1035048|       39|        3|          52|          42|     525|2023-08-21 19:00:00|2025-03-04 19:00:00|         0|         1|   false|    true|            42|    FT|\n|   1035062|       39|        3|          49|        1359|     519|2023-08-25 19:00:00|2025-03-04 19:00:00|         3|         0|    true|   false|            49|    FT|\n+----------+---------+---------+------------+------------+--------+-------------------+-------------------+----------+----------+--------+--------+--------------+------+\nonly showing top 20 rows\n",
					"output_type": "stream"
				}
			]
		},
		{
			"cell_type": "code",
			"source": "# Extract Fixture_ID from parameters.fixture\nteam_stats_df = team_stats_df.withColumn(\"Fixture_ID\", col(\"parameters.fixture\"))\n\n# Explode response array to extract individual fixture records\nteam_stats_exploded = team_stats_df.selectExpr(\"Fixture_ID\", \"explode(response) as match_data\")\n\n# Explode statistics array for each team\nteam_stats_exploded = team_stats_exploded.select(\n    col(\"Fixture_ID\"),\n    col(\"match_data.team.id\").alias(\"Team_ID\"),\n    col(\"match_data.team.name\").alias(\"Team_Name\"),\n    col(\"match_data.statistics\").alias(\"statistics\")\n).withColumn(\"statistics\", explode(col(\"statistics\")))\n\n# Explode the statistics array\nfact_team_stats_df = team_stats_exploded.select(\n    col(\"Fixture_ID\"),\n    col(\"Team_ID\"),\n    \n    # Handle different statistics types with proper extraction and conversion\n    when(col(\"statistics.type\") == \"Shots on Goal\", \n         when(col(\"statistics.value.int\").isNotNull(), col(\"statistics.value.int\"))\n         .otherwise(when(col(\"statistics.value.string\").rlike(\"^\\d+$\"), col(\"statistics.value.string\").cast(\"int\")).otherwise(lit(None)))\n    ).alias(\"Shots_on_Target\"),\n    \n    when(col(\"statistics.type\") == \"Shots off Goal\", \n         when(col(\"statistics.value.int\").isNotNull(), col(\"statistics.value.int\"))\n         .otherwise(when(col(\"statistics.value.string\").rlike(\"^\\d+$\"), col(\"statistics.value.string\").cast(\"int\")).otherwise(lit(None)))\n    ).alias(\"Shots_off_Target\"),\n    \n    when(col(\"statistics.type\") == \"Total Shots\", \n         when(col(\"statistics.value.int\").isNotNull(), col(\"statistics.value.int\"))\n         .otherwise(when(col(\"statistics.value.string\").rlike(\"^\\d+$\"), col(\"statistics.value.string\").cast(\"int\")).otherwise(lit(None)))\n    ).alias(\"Total_Shots\"),\n    \n    when(col(\"statistics.type\") == \"Blocked Shots\", \n         when(col(\"statistics.value.int\").isNotNull(), col(\"statistics.value.int\"))\n         .otherwise(when(col(\"statistics.value.string\").rlike(\"^\\d+$\"), col(\"statistics.value.string\").cast(\"int\")).otherwise(lit(None)))\n    ).alias(\"Blocked_Shots\"),\n    \n    when(col(\"statistics.type\") == \"Shots insidebox\", \n         when(col(\"statistics.value.int\").isNotNull(), col(\"statistics.value.int\"))\n         .otherwise(when(col(\"statistics.value.string\").rlike(\"^\\d+$\"), col(\"statistics.value.string\").cast(\"int\")).otherwise(lit(None)))\n    ).alias(\"Shots_Inside_Box\"),\n    \n    when(col(\"statistics.type\") == \"Shots outsidebox\", \n         when(col(\"statistics.value.int\").isNotNull(), col(\"statistics.value.int\"))\n         .otherwise(when(col(\"statistics.value.string\").rlike(\"^\\d+$\"), col(\"statistics.value.string\").cast(\"int\")).otherwise(lit(None)))\n    ).alias(\"Shots_Outside_Box\"),\n    \n    when(col(\"statistics.type\") == \"Fouls\", \n         when(col(\"statistics.value.int\").isNotNull(), col(\"statistics.value.int\"))\n         .otherwise(when(col(\"statistics.value.string\").rlike(\"^\\d+$\"), col(\"statistics.value.string\").cast(\"int\")).otherwise(lit(None)))\n    ).alias(\"Fouls\"),\n    \n    when(col(\"statistics.type\") == \"Corner Kicks\", \n         when(col(\"statistics.value.int\").isNotNull(), col(\"statistics.value.int\"))\n         .otherwise(when(col(\"statistics.value.string\").rlike(\"^\\d+$\"), col(\"statistics.value.string\").cast(\"int\")).otherwise(lit(None)))\n    ).alias(\"Corner_Kicks\"),\n    \n    when(col(\"statistics.type\") == \"Offsides\", \n         when(col(\"statistics.value.int\").isNotNull(), col(\"statistics.value.int\"))\n         .otherwise(when(col(\"statistics.value.string\").rlike(\"^\\d+$\"), col(\"statistics.value.string\").cast(\"int\")).otherwise(lit(None)))\n    ).alias(\"Offsides\"),\n    \n    # Handle percentages with cleaning\n    when(col(\"statistics.type\") == \"Ball Possession\", \n         when(col(\"statistics.value.string\").rlike(\"^\\d+%$\"), regexp_replace(col(\"statistics.value.string\"), \"%\", \"\").cast(\"int\"))\n         .otherwise(lit(None))\n    ).alias(\"Possession_Percentage\"),\n    \n    when(col(\"statistics.type\") == \"Yellow Cards\", \n         when(col(\"statistics.value.int\").isNotNull(), col(\"statistics.value.int\"))\n         .otherwise(when(col(\"statistics.value.string\").rlike(\"^\\d+$\"), col(\"statistics.value.string\").cast(\"int\")).otherwise(lit(None)))\n    ).alias(\"Yellow_Cards\"),\n    \n    when(col(\"statistics.type\") == \"Red Cards\", \n         when(col(\"statistics.value.int\").isNotNull(), col(\"statistics.value.int\"))\n         .otherwise(when(col(\"statistics.value.string\").rlike(\"^\\d+$\"), col(\"statistics.value.string\").cast(\"int\")).otherwise(lit(None)))\n    ).alias(\"Red_Cards\"),\n    \n    when(col(\"statistics.type\") == \"Goalkeeper Saves\", \n         when(col(\"statistics.value.int\").isNotNull(), col(\"statistics.value.int\"))\n         .otherwise(when(col(\"statistics.value.string\").rlike(\"^\\d+$\"), col(\"statistics.value.string\").cast(\"int\")).otherwise(lit(None)))\n    ).alias(\"Goalkeeper_Saves\"),\n    \n    when(col(\"statistics.type\") == \"Total passes\", \n         when(col(\"statistics.value.int\").isNotNull(), col(\"statistics.value.int\"))\n         .otherwise(when(col(\"statistics.value.string\").rlike(\"^\\d+$\"), col(\"statistics.value.string\").cast(\"int\")).otherwise(lit(None)))\n    ).alias(\"Total_Passes\"),\n    \n    when(col(\"statistics.type\") == \"Passes accurate\", \n         when(col(\"statistics.value.int\").isNotNull(), col(\"statistics.value.int\"))\n         .otherwise(when(col(\"statistics.value.string\").rlike(\"^\\d+$\"), col(\"statistics.value.string\").cast(\"int\")).otherwise(lit(None)))\n    ).alias(\"Passes_Accurate\"),\n    \n    # Handle percentages with cleaning\n    when(col(\"statistics.type\") == \"Passes %\", \n         when(col(\"statistics.value.string\").rlike(\"^\\d+%$\"), regexp_replace(col(\"statistics.value.string\"), \"%\", \"\").cast(\"int\"))\n         .otherwise(lit(None))\n    ).alias(\"Passes_Percent\"),\n    \n    when(col(\"statistics.type\") == \"expected_goals\", \n         when(col(\"statistics.value.string\").rlike(\"^\\d+\\.\\d+$\"), col(\"statistics.value.string\").cast(\"float\"))\n         .otherwise(lit(None))\n    ).alias(\"Expected_Goals\")\n)\n\n# Group by Fixture_ID and Team_ID to aggregate statistics\nfact_team_stats_df = fact_team_stats_df.groupBy(\n    \"Fixture_ID\", \"Team_ID\"\n).agg(\n    F.max(\"Shots_on_Target\").alias(\"Shots_on_Target\"),\n    F.max(\"Shots_off_Target\").alias(\"Shots_off_Target\"),\n    F.max(\"Total_Shots\").alias(\"Total_Shots\"),\n    F.max(\"Blocked_Shots\").alias(\"Blocked_Shots\"),\n    F.max(\"Shots_Inside_Box\").alias(\"Shots_Inside_Box\"),\n    F.max(\"Shots_Outside_Box\").alias(\"Shots_Outside_Box\"),\n    F.max(\"Fouls\").alias(\"Fouls\"),\n    F.max(\"Corner_Kicks\").alias(\"Corner_Kicks\"),\n    F.max(\"Offsides\").alias(\"Offsides\"),\n    F.avg(\"Possession_Percentage\").alias(\"Possession_Percentage\"),  \n    F.max(\"Yellow_Cards\").alias(\"Yellow_Cards\"),\n    F.max(\"Red_Cards\").alias(\"Red_Cards\"),\n    F.max(\"Goalkeeper_Saves\").alias(\"Goalkeeper_Saves\"),\n    F.max(\"Total_Passes\").alias(\"Total_Passes\"),\n    F.max(\"Passes_Accurate\").alias(\"Passes_Accurate\"),\n    F.avg(\"Passes_Percent\").alias(\"Passes_Percent\"),  \n    F.max(\"Expected_Goals\").alias(\"Expected_Goals\")\n)",
			"metadata": {
				"trusted": true,
				"tags": []
			},
			"execution_count": 104,
			"outputs": [
				{
					"name": "stdout",
					"text": "\n",
					"output_type": "stream"
				}
			]
		},
		{
			"cell_type": "code",
			"source": "fact_team_stats_df.count()",
			"metadata": {
				"trusted": true,
				"tags": []
			},
			"execution_count": 110,
			"outputs": [
				{
					"name": "stdout",
					"text": "376\n",
					"output_type": "stream"
				}
			]
		},
		{
			"cell_type": "code",
			"source": "# Join fact_team_stats_df with dim_fixtures_df on Fixture_ID\nfact_team_stats_df = fact_team_stats_df.join(\n    dim_fixtures_df,\n    on=\"Fixture_ID\",\n    how=\"left\"\n)\n\n# Derive Goals_Scored, Goals_Conceded, and Winner_Team\nfact_team_stats_df = fact_team_stats_df.withColumn(\n    \"Goals_Scored\",\n    when(col(\"Team_ID\") == col(\"Home_Team_ID\"), col(\"Goals_Home\"))\n    .when(col(\"Team_ID\") == col(\"Away_Team_ID\"), col(\"Goals_Away\"))\n    .otherwise(lit(None))\n)\n\nfact_team_stats_df = fact_team_stats_df.withColumn(\n    \"Goals_Conceded\",\n    when(col(\"Team_ID\") == col(\"Home_Team_ID\"), col(\"Goals_Away\"))\n    .when(col(\"Team_ID\") == col(\"Away_Team_ID\"), col(\"Goals_Home\"))\n    .otherwise(lit(None))\n)\n\nfact_team_stats_df = fact_team_stats_df.withColumn(\n    \"Winner_Team\",\n    when(col(\"Team_ID\") == col(\"Winner_Team_ID\"), lit(True)).otherwise(lit(False))\n)\n\n# Select only relevant columns\nfact_team_stats_df = fact_team_stats_df.select(\n    \"Fixture_ID\", \"Team_ID\", \"Goals_Scored\", \"Goals_Conceded\", \"Winner_Team\",\n    \"Shots_on_Target\", \"Shots_off_Target\", \"Total_Shots\", \"Blocked_Shots\",\n    \"Shots_Inside_Box\", \"Shots_Outside_Box\", \"Fouls\", \"Corner_Kicks\", \"Offsides\",\n    \"Possession_Percentage\", \"Yellow_Cards\", \"Red_Cards\", \"Goalkeeper_Saves\",\n    \"Total_Passes\", \"Passes_Accurate\", \"Passes_Percent\", \"Expected_Goals\"\n)",
			"metadata": {
				"trusted": true,
				"tags": []
			},
			"execution_count": 111,
			"outputs": [
				{
					"name": "stdout",
					"text": "\n",
					"output_type": "stream"
				}
			]
		},
		{
			"cell_type": "code",
			"source": "# Drop unnecessary columns from dim_fixtures_df\ndim_fixtures_df = dim_fixtures_df.drop(\n    \"Goals_Home\", \"Goals_Away\", \"Home_win\", \"Away_win\", \"Winner_Team_ID\", \"Status\"\n)",
			"metadata": {
				"trusted": true,
				"tags": []
			},
			"execution_count": 112,
			"outputs": [
				{
					"name": "stdout",
					"text": "\n",
					"output_type": "stream"
				}
			]
		},
		{
			"cell_type": "code",
			"source": "dim_fixtures_df.show()",
			"metadata": {
				"trusted": true,
				"tags": []
			},
			"execution_count": 113,
			"outputs": [
				{
					"name": "stdout",
					"text": "+----------+---------+---------+------------+------------+--------+-------------------+-------------------+\n|Fixture_ID|League_ID|Season_ID|Home_Team_ID|Away_Team_ID|Venue_ID|         Match_Date|         Match_Time|\n+----------+---------+---------+------------+------------+--------+-------------------+-------------------+\n|   1035037|       39|        3|          44|          50|     512|2023-08-11 19:00:00|2025-03-04 19:00:00|\n|   1035038|       39|        3|          42|          65|     494|2023-08-12 11:30:00|2025-03-04 11:30:00|\n|   1035039|       39|        3|          35|          48|     504|2023-08-12 14:00:00|2025-03-04 14:00:00|\n|   1035041|       39|        3|          45|          36|    8560|2023-08-12 14:00:00|2025-03-04 14:00:00|\n|   1035040|       39|        3|          51|        1359|     508|2023-08-12 14:00:00|2025-03-04 14:00:00|\n|   1035042|       39|        3|          62|          52|     581|2023-08-12 14:00:00|2025-03-04 14:00:00|\n|   1035043|       39|        3|          34|          66|     562|2023-08-12 16:30:00|2025-03-04 16:30:00|\n|   1035044|       39|        3|          55|          47|   10503|2023-08-13 13:00:00|2025-03-04 13:00:00|\n|   1035045|       39|        3|          49|          40|     519|2023-08-13 15:30:00|2025-03-04 15:30:00|\n|   1035046|       39|        3|          33|          39|     556|2023-08-14 19:00:00|2025-03-04 19:00:00|\n|   1035053|       39|        3|          65|          62|     566|2023-08-18 18:45:00|2025-03-04 18:45:00|\n|   1035049|       39|        3|          36|          55|     535|2023-08-19 14:00:00|2025-03-04 14:00:00|\n|   1035056|       39|        3|          39|          51|     600|2023-08-19 14:00:00|2025-03-04 14:00:00|\n|   1035050|       39|        3|          40|          35|     550|2023-08-19 14:00:00|2025-03-04 14:00:00|\n|   1035054|       39|        3|          47|          33|     593|2023-08-19 16:30:00|2025-03-04 16:30:00|\n|   1035052|       39|        3|          50|          34|     555|2023-08-19 19:00:00|2025-03-04 19:00:00|\n|   1035047|       39|        3|          66|          45|     495|2023-08-20 13:00:00|2025-03-04 13:00:00|\n|   1035055|       39|        3|          48|          49|     598|2023-08-20 15:30:00|2025-03-04 15:30:00|\n|   1035048|       39|        3|          52|          42|     525|2023-08-21 19:00:00|2025-03-04 19:00:00|\n|   1035062|       39|        3|          49|        1359|     519|2023-08-25 19:00:00|2025-03-04 19:00:00|\n+----------+---------+---------+------------+------------+--------+-------------------+-------------------+\nonly showing top 20 rows\n",
					"output_type": "stream"
				}
			]
		},
		{
			"cell_type": "code",
			"source": "fixtures_dynamic_frame = DynamicFrame.fromDF(dim_fixtures_df, glueContext, \"fixtures_dynamic_frame\")\n\n# Specify the S3 output path where you want to store the CSV file\noutput_path = \"s3://football-data-engineering-project/processed/dim_fixtures\"\n\n# Write the DynamicFrame to S3 as a CSV file\nglueContext.write_dynamic_frame.from_options(\n    frame = fixtures_dynamic_frame,\n    connection_type = \"s3\",\n    connection_options = {\"path\": output_path},\n    format = \"csv\",\n    format_options = {\"writeHeader\": True},\n)",
			"metadata": {
				"trusted": true,
				"tags": []
			},
			"execution_count": 114,
			"outputs": [
				{
					"name": "stdout",
					"text": "<awsglue.dynamicframe.DynamicFrame object at 0x7f016359e390>\n",
					"output_type": "stream"
				}
			]
		},
		{
			"cell_type": "code",
			"source": "team_stats_dynamic_frame = DynamicFrame.fromDF(fact_team_stats_df, glueContext, \"team_stats_dynamic_frame\")\n\n# Specify the S3 output path where you want to store the CSV file\noutput_path = \"s3://football-data-engineering-project/processed/fact_team_stats\"\n\n# Write the DynamicFrame to S3 as a CSV file\nglueContext.write_dynamic_frame.from_options(\n    frame = team_stats_dynamic_frame,\n    connection_type = \"s3\",\n    connection_options = {\"path\": output_path},\n    format = \"csv\",\n    format_options = {\"writeHeader\": True},\n)",
			"metadata": {
				"trusted": true,
				"editable": true
			},
			"execution_count": 115,
			"outputs": [
				{
					"name": "stdout",
					"text": "<awsglue.dynamicframe.DynamicFrame object at 0x7f016359bad0>\n",
					"output_type": "stream"
				}
			]
		},
		{
			"cell_type": "code",
			"source": "",
			"metadata": {},
			"execution_count": null,
			"outputs": []
		}
	]
}